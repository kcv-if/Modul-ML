{
 "cells": [
  {
   "cell_type": "markdown",
   "metadata": {},
   "source": [
    "## Import Libraries"
   ]
  },
  {
   "cell_type": "markdown",
   "metadata": {},
   "source": [
    "**Common Libraries**\n",
    "\n",
    "1. **`pandas` (`pd`)**: Used for data manipulation and analysis, mainly in a DataFrame format.\n",
    "2. **`numpy` (`np`)**: For numerical computing, multi-dimensional arrays and mathematical operations.\n",
    "3. **`maplotlib.pyplot` (`plt`) & `seaborn` (`sns`)**: Statistical data visualization library\n",
    "4. **`sklearn` (`scikit-learn`)**: ML library for data preprocessing, model training, and evaluation."
   ]
  },
  {
   "cell_type": "code",
   "execution_count": null,
   "metadata": {
    "_cell_guid": "b1076dfc-b9ad-4769-8c92-a6c4dae69d19",
    "_uuid": "8f2839f25d086af736a60e9eeb907d3b93b6e0e5",
    "execution": {
     "iopub.execute_input": "2025-02-22T06:05:15.783735Z",
     "iopub.status.busy": "2025-02-22T06:05:15.783416Z",
     "iopub.status.idle": "2025-02-22T06:05:18.793528Z",
     "shell.execute_reply": "2025-02-22T06:05:18.792288Z",
     "shell.execute_reply.started": "2025-02-22T06:05:15.783708Z"
    },
    "trusted": true
   },
   "outputs": [],
   "source": [
    "import pandas as pd\n",
    "import numpy as np\n",
    "import os\n",
    "import matplotlib.pyplot as plt\n",
    "import seaborn as sns\n",
    "from sklearn.model_selection import train_test_split\n",
    "import warnings\n",
    "\n",
    "warnings.filterwarnings(\"ignore\")"
   ]
  },
  {
   "cell_type": "markdown",
   "metadata": {},
   "source": [
    "## EDA"
   ]
  },
  {
   "cell_type": "code",
   "execution_count": null,
   "metadata": {
    "execution": {
     "iopub.execute_input": "2025-02-22T06:05:18.795290Z",
     "iopub.status.busy": "2025-02-22T06:05:18.794700Z",
     "iopub.status.idle": "2025-02-22T06:05:18.842640Z",
     "shell.execute_reply": "2025-02-22T06:05:18.841548Z",
     "shell.execute_reply.started": "2025-02-22T06:05:18.795260Z"
    },
    "trusted": true
   },
   "outputs": [],
   "source": [
    "# Load the dataset\n",
    "df = pd.read_csv('/titanic/train.csv')\n",
    "\n",
    "# Display the first 5 rows of the dataset\n",
    "df.head()"
   ]
  },
  {
   "cell_type": "code",
   "execution_count": null,
   "metadata": {
    "execution": {
     "iopub.execute_input": "2025-02-22T06:05:18.844147Z",
     "iopub.status.busy": "2025-02-22T06:05:18.843780Z",
     "iopub.status.idle": "2025-02-22T06:05:18.870231Z",
     "shell.execute_reply": "2025-02-22T06:05:18.869203Z",
     "shell.execute_reply.started": "2025-02-22T06:05:18.844111Z"
    },
    "trusted": true
   },
   "outputs": [],
   "source": [
    "# Get basic information about the dataset\n",
    "df.info()"
   ]
  },
  {
   "cell_type": "code",
   "execution_count": null,
   "metadata": {
    "execution": {
     "iopub.execute_input": "2025-02-22T06:05:18.871521Z",
     "iopub.status.busy": "2025-02-22T06:05:18.871174Z",
     "iopub.status.idle": "2025-02-22T06:05:18.907303Z",
     "shell.execute_reply": "2025-02-22T06:05:18.906159Z",
     "shell.execute_reply.started": "2025-02-22T06:05:18.871496Z"
    },
    "trusted": true
   },
   "outputs": [],
   "source": [
    "# Summary statistics for numerical columns\n",
    "df.describe().T"
   ]
  },
  {
   "cell_type": "code",
   "execution_count": null,
   "metadata": {
    "execution": {
     "iopub.execute_input": "2025-02-22T06:05:18.908810Z",
     "iopub.status.busy": "2025-02-22T06:05:18.908410Z",
     "iopub.status.idle": "2025-02-22T06:05:18.917754Z",
     "shell.execute_reply": "2025-02-22T06:05:18.916638Z",
     "shell.execute_reply.started": "2025-02-22T06:05:18.908775Z"
    },
    "trusted": true
   },
   "outputs": [],
   "source": [
    "# Check for missing values\n",
    "df.isna().sum()"
   ]
  },
  {
   "cell_type": "markdown",
   "metadata": {},
   "source": [
    "### Data Visualization\n",
    "\n",
    "**Summary of Plots**\n",
    "\n",
    "| **Plot Type**   | **Use Case**                                                                 |\n",
    "|------------------|------------------------------------------------------------------------------|\n",
    "| Histogram        | Distribution of a numerical variable.                                       |\n",
    "| Bar Plot         | Compare values across categories.                                           |\n",
    "| Count Plot       | Count occurrences of categorical data.                                      |\n",
    "| Box Plot         | Distribution and outliers in numerical data.                                |\n",
    "| Violin Plot      | Distribution of numerical data (combination of box plot and density plot).   |\n",
    "| Scatter Plot     | Relationship between two numerical variables.                               |\n",
    "| Pair Plot        | Pairwise relationships between numerical variables.                         |\n",
    "| Heatmap          | Visualize correlations between numerical features.                          |\n",
    "| Pie Chart        | Show proportions of categorical data.                                       |\n",
    "| Line Plot        | Show trends over a continuous interval (e.g., time-series data).             |\n",
    "\n",
    "Other types of plots: https://seaborn.pydata.org/examples/index.html"
   ]
  },
  {
   "cell_type": "code",
   "execution_count": null,
   "metadata": {
    "execution": {
     "iopub.execute_input": "2025-02-22T06:05:18.921488Z",
     "iopub.status.busy": "2025-02-22T06:05:18.921050Z",
     "iopub.status.idle": "2025-02-22T06:05:19.309945Z",
     "shell.execute_reply": "2025-02-22T06:05:19.308753Z",
     "shell.execute_reply.started": "2025-02-22T06:05:18.921416Z"
    },
    "trusted": true
   },
   "outputs": [],
   "source": [
    "plt.figure(figsize=(8, 6))\n",
    "sns.histplot(df['Age'], bins=20, kde=True, color='blue')\n",
    "plt.title('Distribution of Age')\n",
    "plt.xlabel('Age')\n",
    "plt.ylabel('Frequency')\n",
    "plt.show()"
   ]
  },
  {
   "cell_type": "code",
   "execution_count": null,
   "metadata": {
    "execution": {
     "iopub.execute_input": "2025-02-22T06:05:19.312663Z",
     "iopub.status.busy": "2025-02-22T06:05:19.312268Z",
     "iopub.status.idle": "2025-02-22T06:05:19.498170Z",
     "shell.execute_reply": "2025-02-22T06:05:19.496965Z",
     "shell.execute_reply.started": "2025-02-22T06:05:19.312627Z"
    },
    "trusted": true
   },
   "outputs": [],
   "source": [
    "plt.figure(figsize=(8, 6))\n",
    "sns.barplot(x='Pclass', y='Survived', data=df, ci=None, palette='viridis')\n",
    "plt.title('Average Survival Rate by Passenger Class')\n",
    "plt.xlabel('Passenger Class')\n",
    "plt.ylabel('Survival Rate')\n",
    "plt.show()"
   ]
  },
  {
   "cell_type": "code",
   "execution_count": null,
   "metadata": {
    "execution": {
     "iopub.execute_input": "2025-02-22T06:05:19.499616Z",
     "iopub.status.busy": "2025-02-22T06:05:19.499199Z",
     "iopub.status.idle": "2025-02-22T06:05:19.675496Z",
     "shell.execute_reply": "2025-02-22T06:05:19.674267Z",
     "shell.execute_reply.started": "2025-02-22T06:05:19.499578Z"
    },
    "trusted": true
   },
   "outputs": [],
   "source": [
    "plt.figure(figsize=(6, 4))\n",
    "sns.countplot(x='Survived', data=df, palette='Set2')\n",
    "plt.title('Count of Survivors')\n",
    "plt.xlabel('Survived (1 = Yes, 0 = No)')\n",
    "plt.ylabel('Count')\n",
    "plt.show()"
   ]
  },
  {
   "cell_type": "code",
   "execution_count": null,
   "metadata": {
    "execution": {
     "iopub.execute_input": "2025-02-22T06:05:19.677130Z",
     "iopub.status.busy": "2025-02-22T06:05:19.676738Z",
     "iopub.status.idle": "2025-02-22T06:05:19.947885Z",
     "shell.execute_reply": "2025-02-22T06:05:19.946577Z",
     "shell.execute_reply.started": "2025-02-22T06:05:19.677095Z"
    },
    "trusted": true
   },
   "outputs": [],
   "source": [
    "plt.figure(figsize=(8, 6))\n",
    "sns.boxplot(x='Survived', y='Age', data=df, palette='coolwarm')\n",
    "plt.title('Age Distribution by Survival')\n",
    "plt.xlabel('Survived (1 = Yes, 0 = No)')\n",
    "plt.ylabel('Age')\n",
    "plt.show()"
   ]
  },
  {
   "cell_type": "code",
   "execution_count": null,
   "metadata": {
    "execution": {
     "iopub.execute_input": "2025-02-22T06:05:19.949327Z",
     "iopub.status.busy": "2025-02-22T06:05:19.948962Z",
     "iopub.status.idle": "2025-02-22T06:05:20.550849Z",
     "shell.execute_reply": "2025-02-22T06:05:20.549239Z",
     "shell.execute_reply.started": "2025-02-22T06:05:19.949299Z"
    },
    "trusted": true
   },
   "outputs": [],
   "source": [
    "plt.figure(figsize=(8, 6))\n",
    "sns.scatterplot(x='Age', y='Fare', hue='Survived', data=df, palette='Set1')\n",
    "plt.title('Age vs Fare (Colored by Survival)')\n",
    "plt.xlabel('Age')\n",
    "plt.ylabel('Fare')\n",
    "plt.show()"
   ]
  },
  {
   "cell_type": "code",
   "execution_count": null,
   "metadata": {
    "execution": {
     "iopub.execute_input": "2025-02-22T06:05:20.552664Z",
     "iopub.status.busy": "2025-02-22T06:05:20.552278Z",
     "iopub.status.idle": "2025-02-22T06:05:23.824326Z",
     "shell.execute_reply": "2025-02-22T06:05:23.823302Z",
     "shell.execute_reply.started": "2025-02-22T06:05:20.552631Z"
    },
    "trusted": true
   },
   "outputs": [],
   "source": [
    "sns.pairplot(df[['Age', 'Fare', 'Survived', 'Pclass']], hue='Survived', palette='husl')\n",
    "plt.suptitle('Pair Plot of Numerical Features', y=1.02)\n",
    "plt.show()"
   ]
  },
  {
   "cell_type": "code",
   "execution_count": null,
   "metadata": {
    "execution": {
     "iopub.execute_input": "2025-02-22T06:05:23.825787Z",
     "iopub.status.busy": "2025-02-22T06:05:23.825512Z",
     "iopub.status.idle": "2025-02-22T06:05:23.981315Z",
     "shell.execute_reply": "2025-02-22T06:05:23.980383Z",
     "shell.execute_reply.started": "2025-02-22T06:05:23.825763Z"
    },
    "trusted": true
   },
   "outputs": [],
   "source": [
    "plt.figure(figsize=(6, 6))\n",
    "df['Survived'].value_counts().plot.pie(autopct='%1.1f%%', colors=['lightcoral', 'lightgreen'])\n",
    "plt.title('Survival Proportion')\n",
    "plt.ylabel('')\n",
    "plt.show()"
   ]
  },
  {
   "cell_type": "code",
   "execution_count": null,
   "metadata": {
    "execution": {
     "iopub.execute_input": "2025-02-22T06:05:23.982550Z",
     "iopub.status.busy": "2025-02-22T06:05:23.982187Z",
     "iopub.status.idle": "2025-02-22T06:05:24.254601Z",
     "shell.execute_reply": "2025-02-22T06:05:24.253553Z",
     "shell.execute_reply.started": "2025-02-22T06:05:23.982524Z"
    },
    "trusted": true
   },
   "outputs": [],
   "source": [
    "plt.figure(figsize=(8, 6))\n",
    "sns.lineplot(x='Age', y='Fare', data=df, ci=None, color='purple')\n",
    "plt.title('Line Plot of Age vs Fare')\n",
    "plt.xlabel('Age')\n",
    "plt.ylabel('Fare')\n",
    "plt.show()"
   ]
  },
  {
   "cell_type": "markdown",
   "metadata": {},
   "source": [
    "## Data preprocessing"
   ]
  },
  {
   "cell_type": "code",
   "execution_count": null,
   "metadata": {
    "execution": {
     "iopub.execute_input": "2025-02-22T06:05:24.255968Z",
     "iopub.status.busy": "2025-02-22T06:05:24.255643Z",
     "iopub.status.idle": "2025-02-22T06:05:24.273246Z",
     "shell.execute_reply": "2025-02-22T06:05:24.272351Z",
     "shell.execute_reply.started": "2025-02-22T06:05:24.255942Z"
    },
    "trusted": true
   },
   "outputs": [],
   "source": [
    "def clean_data(df):\n",
    "    df = df.copy()\n",
    "    \n",
    "    # Fill missing 'Age' values with the median\n",
    "    df['Age'] = df['Age'].fillna(df['Age'].median())\n",
    "    \n",
    "    # Fill missing 'Embarked' values with the mode\n",
    "    df['Embarked'] = df['Embarked'].fillna(df['Embarked'].mode()[0])\n",
    "    \n",
    "    # Drop the 'Cabin' column as it has too many missing values\n",
    "    df = df.drop('Cabin', axis=1)\n",
    "\n",
    "    return df\n",
    "\n",
    "def feature_engineer(df):\n",
    "    df = df.copy()\n",
    "\n",
    "    # Create a new feature 'FamilySize' by combining 'SibSp' and 'Parch'\n",
    "    df['FamilySize'] = df['SibSp'] + df['Parch']\n",
    "\n",
    "    # Create a new feature 'IsAlone' to indicate if a passenger is alone\n",
    "    df['IsAlone'] = df['FamilySize'].apply(lambda x: 1 if x == 0 else 0)\n",
    "\n",
    "    return df\n",
    "\n",
    "train = clean_data(df)\n",
    "train = feature_engineer(train)\n",
    "\n",
    "# Verify if missing values are handled\n",
    "df.isnull().sum()"
   ]
  },
  {
   "cell_type": "code",
   "execution_count": null,
   "metadata": {
    "execution": {
     "iopub.execute_input": "2025-02-22T06:05:24.274584Z",
     "iopub.status.busy": "2025-02-22T06:05:24.274184Z",
     "iopub.status.idle": "2025-02-22T06:05:24.300295Z",
     "shell.execute_reply": "2025-02-22T06:05:24.299252Z",
     "shell.execute_reply.started": "2025-02-22T06:05:24.274526Z"
    },
    "trusted": true
   },
   "outputs": [],
   "source": [
    "df.head()"
   ]
  },
  {
   "cell_type": "code",
   "execution_count": null,
   "metadata": {
    "execution": {
     "iopub.execute_input": "2025-02-22T06:05:24.301660Z",
     "iopub.status.busy": "2025-02-22T06:05:24.301303Z",
     "iopub.status.idle": "2025-02-22T06:05:24.324382Z",
     "shell.execute_reply": "2025-02-22T06:05:24.323189Z",
     "shell.execute_reply.started": "2025-02-22T06:05:24.301635Z"
    },
    "trusted": true
   },
   "outputs": [],
   "source": [
    "df.info()"
   ]
  },
  {
   "cell_type": "code",
   "execution_count": null,
   "metadata": {
    "execution": {
     "iopub.execute_input": "2025-02-22T06:05:24.326027Z",
     "iopub.status.busy": "2025-02-22T06:05:24.325612Z",
     "iopub.status.idle": "2025-02-22T06:05:24.713349Z",
     "shell.execute_reply": "2025-02-22T06:05:24.712252Z",
     "shell.execute_reply.started": "2025-02-22T06:05:24.325988Z"
    },
    "trusted": true
   },
   "outputs": [],
   "source": [
    "num_cols = df.select_dtypes(include=['number'])  \n",
    "\n",
    "# Compute correlation matrix\n",
    "corr_matrix = num_cols.corr()\n",
    "\n",
    "# Plot the correlation matrix as a heatmap\n",
    "plt.figure(figsize=(10,6))\n",
    "sns.heatmap(corr_matrix, annot=True, cmap=\"coolwarm\", linewidths=0.5) \n",
    "plt.title(\"Feature Correlation Heatmap\")\n",
    "plt.show()"
   ]
  },
  {
   "cell_type": "code",
   "execution_count": null,
   "metadata": {
    "execution": {
     "iopub.execute_input": "2025-02-22T06:05:24.714587Z",
     "iopub.status.busy": "2025-02-22T06:05:24.714274Z",
     "iopub.status.idle": "2025-02-22T06:05:24.724879Z",
     "shell.execute_reply": "2025-02-22T06:05:24.723705Z",
     "shell.execute_reply.started": "2025-02-22T06:05:24.714564Z"
    },
    "trusted": true
   },
   "outputs": [],
   "source": [
    "# Define features (X) and target (y)\n",
    "X = df.drop(['Survived'], axis=1)\n",
    "y = df[\"Survived\"]\n",
    "\n",
    "# Split the data into training and testing sets\n",
    "X_train, X_test, y_train, y_test = train_test_split(X, y, test_size=0.2, random_state=42)\n",
    "print(X_train.shape, X_test.shape)"
   ]
  },
  {
   "cell_type": "code",
   "execution_count": null,
   "metadata": {
    "execution": {
     "iopub.execute_input": "2025-02-22T06:05:24.726292Z",
     "iopub.status.busy": "2025-02-22T06:05:24.725925Z",
     "iopub.status.idle": "2025-02-22T06:05:24.754139Z",
     "shell.execute_reply": "2025-02-22T06:05:24.752889Z",
     "shell.execute_reply.started": "2025-02-22T06:05:24.726264Z"
    },
    "trusted": true
   },
   "outputs": [],
   "source": [
    "# Convert the dataframe to csv file\n",
    "df.to_csv('train_data.csv', index=False)"
   ]
  }
 ],
 "metadata": {
  "kaggle": {
   "accelerator": "none",
   "dataSources": [
    {
     "databundleVersionId": 26502,
     "sourceId": 3136,
     "sourceType": "competition"
    }
   ],
   "dockerImageVersionId": 30918,
   "isGpuEnabled": false,
   "isInternetEnabled": true,
   "language": "python",
   "sourceType": "notebook"
  },
  "kernelspec": {
   "display_name": "Python 3",
   "language": "python",
   "name": "python3"
  },
  "language_info": {
   "codemirror_mode": {
    "name": "ipython",
    "version": 3
   },
   "file_extension": ".py",
   "mimetype": "text/x-python",
   "name": "python",
   "nbconvert_exporter": "python",
   "pygments_lexer": "ipython3",
   "version": "3.10.12"
  }
 },
 "nbformat": 4,
 "nbformat_minor": 4
}
