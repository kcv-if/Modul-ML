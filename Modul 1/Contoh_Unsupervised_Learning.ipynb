{
  "cells": [
    {
      "cell_type": "markdown",
      "metadata": {
        "id": "xWcXn4vMydpc"
      },
      "source": [
        "# Modul 2 Lab Based Education KCV 2024\n",
        "## Unsupervised Learning\n",
        "\n",
        "<img src=\"./assets/title.webp\" alt=\"title\" width=\"800\" height=\"300\">"
      ]
    },
    {
      "cell_type": "markdown",
      "metadata": {
        "id": "9ZpFoAHQXOdH"
      },
      "source": [
        "### Definisi\n",
        "Model machine learning yang dilatih dengan data **tanpa** menggunakan label.\n",
        "\n",
        "Yang dilakukan model adalah **mempelajari pola dari data**\n"
      ]
    },
    {
      "cell_type": "markdown",
      "metadata": {
        "id": "mdQGBbegYPQ1"
      },
      "source": [
        "### Apa saja tipe unsupervised learning\n",
        "\n",
        "**Clustering**\n",
        "\n",
        "<img src=\"./assets/clustering.webp\" alt=\"clustering\" width=\"800\" height=\"400\">\n",
        "\n",
        "**Dimensionality Reduction**\n",
        "\n",
        "![DR](./assets/DR.gif)"
      ]
    },
    {
      "cell_type": "markdown",
      "metadata": {
        "id": "kXZkEt-pcjTv"
      },
      "source": [
        "## CLUSTERING\n",
        "\n",
        "Clustering adalah proses mengelompokkan data (objek) ke dalam kelompok-kelompok yang disebut **cluster**. Cluster dikelompokkan berdasarkan **kemiripan** antar objek.\n",
        "\n",
        "**Kemiripan diukur dari jarak antar data**\n",
        "\n",
        "Tujuan utama analisis cluster adalah:\n",
        "- Meminimalkan Intra Cluster\n",
        "- Memaksimalkan Inter-Cluster\n",
        "\n",
        "<img src=\"./assets/tujuan_cluster.png\" alt=\"tujuan_cluster\" width=\"800\" height=\"300\">\n"
      ]
    },
    {
      "cell_type": "markdown",
      "metadata": {
        "id": "TV1TMZaqfMVW"
      },
      "source": [
        "### PRASYARAT!!!\n",
        "\n",
        "Nah karena kita akan mencari kemiripan antar data dengan jaraknya, kita harus mengetahui cara untuk menghitung jaraknya. Ada beberapa rumus jarak yang bisa dipakai:\n",
        "\n",
        "1. Manhattan Distance\n",
        "2. Euclidean Distance\n",
        "3. Minkowski Distance\n",
        "\n",
        "![distance_1](./assets/distance_1.png)\n",
        "\n",
        "![distance_2](./assets/distance_2.png)"
      ]
    },
    {
      "cell_type": "markdown",
      "metadata": {
        "id": "2JQdjPluhgCE"
      },
      "source": [
        "### K-Means Clustering\n",
        "\n",
        "K-Means clustering adalah algoritma yang mengelompokkan **N data** (berdasarkan fitur / atribut) ke dalam **K cluster**. Sebuah cluster di K-Means berpusat pada sebuah **titik centroid**. Selain K-Means, ada juga K-Medians dan [K-Medoids](https://esairina.medium.com/clustering-menggunakan-algoritma-k-medoids-67179a333723).\n",
        "\n",
        "![example_1](./assets/example_1.png)"
      ]
    },
    {
      "cell_type": "markdown",
      "metadata": {
        "id": "BGoZyGEZrUja"
      },
      "source": [
        "**Bagaimana K-Means Bekerja???**\n",
        "\n",
        "![kmeans_1](./assets/kmeans_1.png)"
      ]
    },
    {
      "cell_type": "markdown",
      "metadata": {
        "id": "BmAdhavxrUja"
      },
      "source": [
        "### [Coding Time] K-Means Clustering\n",
        "\n",
        "Kali ini, kita akan bereksperimen menggunakan dataset karakter dari game [Genshin Impact](https://genshin.hoyoverse.com/). Tujuan clustering kali ini adalah untuk mengelompokkan karakter berdasarkan `base ATK`, `base HP`, dan `base DEF` pada level 90"
      ]
    },
    {
      "cell_type": "code",
      "execution_count": 2,
      "metadata": {
        "id": "_z3FoZRHrUja"
      },
      "outputs": [],
      "source": [
        "# Selalu awali dengan import-import library\n",
        "import numpy as np\n",
        "import pandas as pd\n",
        "import matplotlib.pyplot as plt\n",
        "import seaborn as sns\n",
        "import warnings\n",
        "warnings.filterwarnings('ignore')"
      ]
    },
    {
      "cell_type": "code",
      "execution_count": 3,
      "metadata": {
        "colab": {
          "base_uri": "https://localhost:8080/",
          "height": 423
        },
        "id": "dZjrgQzLrUjb",
        "outputId": "2c55064e-2912-4085-c99e-4b755a80dc8f"
      },
      "outputs": [
        {
          "data": {
            "text/html": [
              "<div>\n",
              "<style scoped>\n",
              "    .dataframe tbody tr th:only-of-type {\n",
              "        vertical-align: middle;\n",
              "    }\n",
              "\n",
              "    .dataframe tbody tr th {\n",
              "        vertical-align: top;\n",
              "    }\n",
              "\n",
              "    .dataframe thead th {\n",
              "        text-align: right;\n",
              "    }\n",
              "</style>\n",
              "<table border=\"1\" class=\"dataframe\">\n",
              "  <thead>\n",
              "    <tr style=\"text-align: right;\">\n",
              "      <th></th>\n",
              "      <th>character_name</th>\n",
              "      <th>rarity</th>\n",
              "      <th>region</th>\n",
              "      <th>vision</th>\n",
              "      <th>weapon_type</th>\n",
              "      <th>hp_90_90</th>\n",
              "      <th>atk_90_90</th>\n",
              "      <th>def_90_90</th>\n",
              "    </tr>\n",
              "  </thead>\n",
              "  <tbody>\n",
              "    <tr>\n",
              "      <th>0</th>\n",
              "      <td>Albedo</td>\n",
              "      <td>5</td>\n",
              "      <td>Mondstadt</td>\n",
              "      <td>Geo</td>\n",
              "      <td>Sword</td>\n",
              "      <td>13226</td>\n",
              "      <td>251</td>\n",
              "      <td>876</td>\n",
              "    </tr>\n",
              "    <tr>\n",
              "      <th>1</th>\n",
              "      <td>Alhaitham</td>\n",
              "      <td>5</td>\n",
              "      <td>Sumeru</td>\n",
              "      <td>Dendro</td>\n",
              "      <td>Sword</td>\n",
              "      <td>13348</td>\n",
              "      <td>313</td>\n",
              "      <td>781</td>\n",
              "    </tr>\n",
              "    <tr>\n",
              "      <th>2</th>\n",
              "      <td>Aloy</td>\n",
              "      <td>5</td>\n",
              "      <td>Unknown</td>\n",
              "      <td>Cryo</td>\n",
              "      <td>Bow</td>\n",
              "      <td>10899</td>\n",
              "      <td>234</td>\n",
              "      <td>676</td>\n",
              "    </tr>\n",
              "    <tr>\n",
              "      <th>3</th>\n",
              "      <td>Amber</td>\n",
              "      <td>4</td>\n",
              "      <td>Mondstadt</td>\n",
              "      <td>Pyro</td>\n",
              "      <td>Bow</td>\n",
              "      <td>9461</td>\n",
              "      <td>223</td>\n",
              "      <td>601</td>\n",
              "    </tr>\n",
              "    <tr>\n",
              "      <th>4</th>\n",
              "      <td>Arataki Itto</td>\n",
              "      <td>5</td>\n",
              "      <td>Inazuma</td>\n",
              "      <td>Geo</td>\n",
              "      <td>Claymore</td>\n",
              "      <td>12858</td>\n",
              "      <td>227</td>\n",
              "      <td>959</td>\n",
              "    </tr>\n",
              "    <tr>\n",
              "      <th>...</th>\n",
              "      <td>...</td>\n",
              "      <td>...</td>\n",
              "      <td>...</td>\n",
              "      <td>...</td>\n",
              "      <td>...</td>\n",
              "      <td>...</td>\n",
              "      <td>...</td>\n",
              "      <td>...</td>\n",
              "    </tr>\n",
              "    <tr>\n",
              "      <th>79</th>\n",
              "      <td>Yaoyao</td>\n",
              "      <td>4</td>\n",
              "      <td>Liyue</td>\n",
              "      <td>Dendro</td>\n",
              "      <td>Polearm</td>\n",
              "      <td>12288</td>\n",
              "      <td>212</td>\n",
              "      <td>750</td>\n",
              "    </tr>\n",
              "    <tr>\n",
              "      <th>80</th>\n",
              "      <td>Yelan</td>\n",
              "      <td>5</td>\n",
              "      <td>Liyue</td>\n",
              "      <td>Hydro</td>\n",
              "      <td>Bow</td>\n",
              "      <td>14450</td>\n",
              "      <td>244</td>\n",
              "      <td>548</td>\n",
              "    </tr>\n",
              "    <tr>\n",
              "      <th>81</th>\n",
              "      <td>Yoimiya</td>\n",
              "      <td>5</td>\n",
              "      <td>Inazuma</td>\n",
              "      <td>Pyro</td>\n",
              "      <td>Bow</td>\n",
              "      <td>10164</td>\n",
              "      <td>323</td>\n",
              "      <td>615</td>\n",
              "    </tr>\n",
              "    <tr>\n",
              "      <th>82</th>\n",
              "      <td>Yun Jin</td>\n",
              "      <td>4</td>\n",
              "      <td>Liyue</td>\n",
              "      <td>Geo</td>\n",
              "      <td>Polearm</td>\n",
              "      <td>10657</td>\n",
              "      <td>191</td>\n",
              "      <td>734</td>\n",
              "    </tr>\n",
              "    <tr>\n",
              "      <th>83</th>\n",
              "      <td>Zhongli</td>\n",
              "      <td>5</td>\n",
              "      <td>Liyue</td>\n",
              "      <td>Geo</td>\n",
              "      <td>Polearm</td>\n",
              "      <td>14695</td>\n",
              "      <td>251</td>\n",
              "      <td>738</td>\n",
              "    </tr>\n",
              "  </tbody>\n",
              "</table>\n",
              "<p>84 rows × 8 columns</p>\n",
              "</div>"
            ],
            "text/plain": [
              "    character_name                 rarity   region      vision    weapon_type  \\\n",
              "0   Albedo                              5   Mondstadt   Geo       Sword         \n",
              "1   Alhaitham                           5   Sumeru      Dendro    Sword         \n",
              "2   Aloy                                5   Unknown     Cryo      Bow           \n",
              "3   Amber                               4   Mondstadt   Pyro      Bow           \n",
              "4   Arataki Itto                        5   Inazuma     Geo       Claymore      \n",
              "..                           ...      ...         ...       ...           ...   \n",
              "79  Yaoyao                              4   Liyue       Dendro    Polearm       \n",
              "80  Yelan                               5   Liyue       Hydro     Bow           \n",
              "81  Yoimiya                             5   Inazuma     Pyro      Bow           \n",
              "82  Yun Jin                             4   Liyue       Geo       Polearm       \n",
              "83  Zhongli                             5   Liyue       Geo       Polearm       \n",
              "\n",
              "     hp_90_90   atk_90_90   def_90_90  \n",
              "0       13226         251         876  \n",
              "1       13348         313         781  \n",
              "2       10899         234         676  \n",
              "3        9461         223         601  \n",
              "4       12858         227         959  \n",
              "..        ...         ...         ...  \n",
              "79      12288         212         750  \n",
              "80      14450         244         548  \n",
              "81      10164         323         615  \n",
              "82      10657         191         734  \n",
              "83      14695         251         738  \n",
              "\n",
              "[84 rows x 8 columns]"
            ]
          },
          "execution_count": 3,
          "metadata": {},
          "output_type": "execute_result"
        }
      ],
      "source": [
        "# Load data\n",
        "df = pd.read_csv('./Dataset/Genshin_Data.csv')\n",
        "df"
      ]
    },
    {
      "cell_type": "code",
      "execution_count": 4,
      "metadata": {
        "colab": {
          "base_uri": "https://localhost:8080/"
        },
        "id": "TELeqBgOrUjc",
        "outputId": "e2b20e8f-1fb1-4432-87a6-5d377d0c2f23"
      },
      "outputs": [
        {
          "name": "stdout",
          "output_type": "stream",
          "text": [
            "<class 'pandas.core.frame.DataFrame'>\n",
            "RangeIndex: 84 entries, 0 to 83\n",
            "Data columns (total 8 columns):\n",
            " #   Column                        Non-Null Count  Dtype \n",
            "---  ------                        --------------  ----- \n",
            " 0   character_name                84 non-null     object\n",
            " 1    rarity                       84 non-null     int64 \n",
            " 2    region                       84 non-null     object\n",
            " 3    vision                       84 non-null     object\n",
            " 4    weapon_type                  84 non-null     object\n",
            " 5    hp_90_90                     84 non-null     int64 \n",
            " 6    atk_90_90                    84 non-null     int64 \n",
            " 7    def_90_90                    84 non-null     int64 \n",
            "dtypes: int64(4), object(4)\n",
            "memory usage: 5.4+ KB\n"
          ]
        }
      ],
      "source": [
        "# Kita coba eksplorasi data terlebih dahulu\n",
        "\n",
        "df.info()"
      ]
    },
    {
      "cell_type": "code",
      "execution_count": 5,
      "metadata": {
        "colab": {
          "base_uri": "https://localhost:8080/",
          "height": 300
        },
        "id": "q0LV5MOzrUjc",
        "outputId": "57fd8acf-823a-4948-acab-71d46b43428d"
      },
      "outputs": [
        {
          "data": {
            "text/html": [
              "<div>\n",
              "<style scoped>\n",
              "    .dataframe tbody tr th:only-of-type {\n",
              "        vertical-align: middle;\n",
              "    }\n",
              "\n",
              "    .dataframe tbody tr th {\n",
              "        vertical-align: top;\n",
              "    }\n",
              "\n",
              "    .dataframe thead th {\n",
              "        text-align: right;\n",
              "    }\n",
              "</style>\n",
              "<table border=\"1\" class=\"dataframe\">\n",
              "  <thead>\n",
              "    <tr style=\"text-align: right;\">\n",
              "      <th></th>\n",
              "      <th>rarity</th>\n",
              "      <th>hp_90_90</th>\n",
              "      <th>atk_90_90</th>\n",
              "      <th>def_90_90</th>\n",
              "    </tr>\n",
              "  </thead>\n",
              "  <tbody>\n",
              "    <tr>\n",
              "      <th>count</th>\n",
              "      <td>84.000000</td>\n",
              "      <td>84.000000</td>\n",
              "      <td>84.000000</td>\n",
              "      <td>84.000000</td>\n",
              "    </tr>\n",
              "    <tr>\n",
              "      <th>mean</th>\n",
              "      <td>4.559524</td>\n",
              "      <td>11726.047619</td>\n",
              "      <td>244.178571</td>\n",
              "      <td>698.297619</td>\n",
              "    </tr>\n",
              "    <tr>\n",
              "      <th>std</th>\n",
              "      <td>0.499426</td>\n",
              "      <td>1645.152792</td>\n",
              "      <td>50.754348</td>\n",
              "      <td>91.541126</td>\n",
              "    </tr>\n",
              "    <tr>\n",
              "      <th>min</th>\n",
              "      <td>4.000000</td>\n",
              "      <td>9189.000000</td>\n",
              "      <td>106.000000</td>\n",
              "      <td>499.000000</td>\n",
              "    </tr>\n",
              "    <tr>\n",
              "      <th>25%</th>\n",
              "      <td>4.000000</td>\n",
              "      <td>10500.500000</td>\n",
              "      <td>212.000000</td>\n",
              "      <td>630.000000</td>\n",
              "    </tr>\n",
              "    <tr>\n",
              "      <th>50%</th>\n",
              "      <td>5.000000</td>\n",
              "      <td>11146.500000</td>\n",
              "      <td>230.000000</td>\n",
              "      <td>683.000000</td>\n",
              "    </tr>\n",
              "    <tr>\n",
              "      <th>75%</th>\n",
              "      <td>5.000000</td>\n",
              "      <td>12925.500000</td>\n",
              "      <td>287.000000</td>\n",
              "      <td>759.250000</td>\n",
              "    </tr>\n",
              "    <tr>\n",
              "      <th>max</th>\n",
              "      <td>5.000000</td>\n",
              "      <td>15674.000000</td>\n",
              "      <td>349.000000</td>\n",
              "      <td>959.000000</td>\n",
              "    </tr>\n",
              "  </tbody>\n",
              "</table>\n",
              "</div>"
            ],
            "text/plain": [
              "          rarity      hp_90_90   atk_90_90   def_90_90\n",
              "count  84.000000     84.000000   84.000000   84.000000\n",
              "mean    4.559524  11726.047619  244.178571  698.297619\n",
              "std     0.499426   1645.152792   50.754348   91.541126\n",
              "min     4.000000   9189.000000  106.000000  499.000000\n",
              "25%     4.000000  10500.500000  212.000000  630.000000\n",
              "50%     5.000000  11146.500000  230.000000  683.000000\n",
              "75%     5.000000  12925.500000  287.000000  759.250000\n",
              "max     5.000000  15674.000000  349.000000  959.000000"
            ]
          },
          "execution_count": 5,
          "metadata": {},
          "output_type": "execute_result"
        }
      ],
      "source": [
        "df.describe()"
      ]
    },
    {
      "cell_type": "code",
      "execution_count": 6,
      "metadata": {
        "id": "ElTCdgj4rUjc"
      },
      "outputs": [],
      "source": [
        "# Buat merapikan nama kolom / fitur\n",
        "df.columns = df.columns.str.strip()"
      ]
    },
    {
      "cell_type": "code",
      "execution_count": 7,
      "metadata": {
        "colab": {
          "base_uri": "https://localhost:8080/",
          "height": 898
        },
        "id": "oPLwZ4mJrUjc",
        "outputId": "d27aba2e-2b4f-4e72-aacb-e69ae0bb31b3"
      },
      "outputs": [
        {
          "data": {
            "image/png": "[encoded data removed]",
            "text/plain": [
              "<Figure size 1500x1000 with 4 Axes>"
            ]
          },
          "metadata": {},
          "output_type": "display_data"
        }
      ],
      "source": [
        "# Kita coba visualisasi data pada kolom 'rarity', 'region', 'vision', 'weapon_type'\n",
        "\n",
        "kolom_1 = ['rarity', 'region', 'vision', 'weapon_type']\n",
        "\n",
        "color_palette = sns.color_palette(\"Set1\", len(kolom_1))\n",
        "\n",
        "plt.figure(figsize=(15, 10))\n",
        "for i, column in enumerate(kolom_1, 1):\n",
        "    plt.subplot((len(kolom_1)//3)+1, 3, i)\n",
        "    sns.countplot(data=df, x=column, palette=color_palette)\n",
        "    plt.title(column)\n",
        "\n",
        "plt.tight_layout()\n",
        "plt.show()"
      ]
    },
    {
      "cell_type": "code",
      "execution_count": 8,
      "metadata": {
        "colab": {
          "base_uri": "https://localhost:8080/",
          "height": 488
        },
        "id": "syfRCD4SrUjd",
        "outputId": "41645eb3-8f21-45ed-f0d7-c58080160b9f"
      },
      "outputs": [
        {
          "data": {
            "image/png": "[encoded data removed]",
            "text/plain": [
              "<Figure size 1500x1000 with 3 Axes>"
            ]
          },
          "metadata": {},
          "output_type": "display_data"
        }
      ],
      "source": [
        "# Sekarang kita coba visualisasi data HP, ATK, dan DEF (Menggunakan Box Plot)\n",
        "\n",
        "kolom_2 = ['hp_90_90', 'atk_90_90', 'def_90_90']\n",
        "\n",
        "color_palette = sns.color_palette(\"Set1\", len(kolom_2))\n",
        "plt.figure(figsize = (15, 10))\n",
        "\n",
        "for i, column in enumerate(kolom_2, 1):\n",
        "    plt.subplot((len(kolom_2)//3)+1, 3, i)\n",
        "    sns.boxplot(data=df, x=column, color=color_palette[i - 1])\n",
        "    plt.xlabel(column)\n",
        "    plt.title(f'{column} Boxplot')\n",
        "\n",
        "plt.tight_layout()\n",
        "plt.show()"
      ]
    },
    {
      "cell_type": "code",
      "execution_count": 9,
      "metadata": {
        "colab": {
          "base_uri": "https://localhost:8080/",
          "height": 428
        },
        "id": "5H0AQFDXrUjd",
        "outputId": "b8ce307b-ced4-4769-d7c5-311650533caf"
      },
      "outputs": [
        {
          "data": {
            "text/plain": [
              "<Figure size 2000x1000 with 0 Axes>"
            ]
          },
          "metadata": {},
          "output_type": "display_data"
        },
        {
          "data": {
            "image/png": "[encoded data removed]",
            "text/plain": [
              "<Figure size 640x480 with 1 Axes>"
            ]
          },
          "metadata": {},
          "output_type": "display_data"
        }
      ],
      "source": [
        "# Kita coba visualisasi secara 3d antara HP, ATK, dan DEF\n",
        "\n",
        "from mpl_toolkits.mplot3d import Axes3D\n",
        "\n",
        "plt.figure(figsize = (20, 10))\n",
        "fig = plt.figure()\n",
        "ax = fig.add_subplot(111, projection='3d')\n",
        "\n",
        "x = df['hp_90_90']\n",
        "y = df['atk_90_90']\n",
        "z = df['def_90_90']\n",
        "\n",
        "ax.scatter(x, y, z, c='b', marker='o')\n",
        "ax.set_xlabel('HP')\n",
        "ax.set_ylabel('Attack')\n",
        "ax.set_zlabel('Defense')\n",
        "\n",
        "plt.ion()\n",
        "plt.show()"
      ]
    },
    {
      "cell_type": "code",
      "execution_count": 10,
      "metadata": {
        "colab": {
          "base_uri": "https://localhost:8080/",
          "height": 542
        },
        "id": "kkSht5Y_rUjd",
        "outputId": "4dbbe52d-532f-48ad-b6ec-dabe895764e4"
      },
      "outputs": [
        {
          "data": {
            "application/vnd.plotly.v1+json": {
              "config": {
                "plotlyServerURL": "https://plot.ly"
              },
              "data": [
                {
                  "mode": "markers",
                  "type": "scatter3d",
                  "x": [
                    13226,
                    13348,
                    10899,
                    9461,
                    12858,
                    13348,
                    9787,
                    13050,
                    12397,
                    10874,
                    10766,
                    10984,
                    9787,
                    12490,
                    15674,
                    12981,
                    9570,
                    12397,
                    13226,
                    9569,
                    9189,
                    12071,
                    15307,
                    9797,
                    9570,
                    15552,
                    14695,
                    13348,
                    11636,
                    12858,
                    13715,
                    11962,
                    13103,
                    12179,
                    10287,
                    9570,
                    12288,
                    11092,
                    9570,
                    12397,
                    11021,
                    12506,
                    10409,
                    10360,
                    15184,
                    9787,
                    12071,
                    14695,
                    12368,
                    12907,
                    11962,
                    12289,
                    13471,
                    11854,
                    12993,
                    10657,
                    9243,
                    13103,
                    10331,
                    10849,
                    10875,
                    10875,
                    10875,
                    10875,
                    10875,
                    10875,
                    10875,
                    10875,
                    10875,
                    10875,
                    10531,
                    10164,
                    13592,
                    10875,
                    12736,
                    10223,
                    11201,
                    10372,
                    9352,
                    12288,
                    14450,
                    10164,
                    10657,
                    14695
                  ],
                  "y": [
                    251,
                    313,
                    234,
                    223,
                    227,
                    192,
                    159,
                    225,
                    191,
                    212,
                    173,
                    223,
                    199,
                    318,
                    265,
                    335,
                    212,
                    223,
                    342,
                    196,
                    244,
                    254,
                    243,
                    335,
                    183,
                    106,
                    239,
                    297,
                    223,
                    342,
                    299,
                    233,
                    323,
                    223,
                    311,
                    195,
                    212,
                    216,
                    232,
                    231,
                    318,
                    223,
                    287,
                    298,
                    229,
                    212,
                    191,
                    208,
                    287,
                    337,
                    234,
                    240,
                    234,
                    244,
                    304,
                    225,
                    170,
                    301,
                    202,
                    267,
                    212,
                    212,
                    212,
                    212,
                    212,
                    212,
                    212,
                    212,
                    212,
                    212,
                    263,
                    327,
                    310,
                    225,
                    349,
                    202,
                    249,
                    340,
                    240,
                    212,
                    244,
                    323,
                    191,
                    251
                  ],
                  "z": [
                    876,
                    781,
                    676,
                    601,
                    959,
                    499,
                    669,
                    648,
                    771,
                    682,
                    546,
                    648,
                    600,
                    859,
                    627,
                    784,
                    601,
                    723,
                    751,
                    627,
                    594,
                    708,
                    695,
                    630,
                    648,
                    876,
                    769,
                    807,
                    792,
                    784,
                    769,
                    750,
                    799,
                    546,
                    615,
                    628,
                    750,
                    655,
                    573,
                    711,
                    537,
                    713,
                    653,
                    630,
                    728,
                    573,
                    799,
                    576,
                    922,
                    789,
                    751,
                    710,
                    657,
                    745,
                    830,
                    683,
                    703,
                    815,
                    751,
                    630,
                    683,
                    683,
                    683,
                    683,
                    683,
                    683,
                    683,
                    683,
                    683,
                    683,
                    669,
                    607,
                    763,
                    669,
                    799,
                    758,
                    799,
                    569,
                    587,
                    750,
                    548,
                    615,
                    734,
                    738
                  ]
                }
              ],
              "layout": {
                "scene": {
                  "xaxis": {
                    "title": {
                      "text": "HP"
                    }
                  },
                  "yaxis": {
                    "title": {
                      "text": "Attack"
                    }
                  },
                  "zaxis": {
                    "title": {
                      "text": "Defense"
                    }
                  }
                },
                "template": {
                  "data": {
                    "bar": [
                      {
                        "error_x": {
                          "color": "#2a3f5f"
                        },
                        "error_y": {
                          "color": "#2a3f5f"
                        },
                        "marker": {
                          "line": {
                            "color": "#E5ECF6",
                            "width": 0.5
                          },
                          "pattern": {
                            "fillmode": "overlay",
                            "size": 10,
                            "solidity": 0.2
                          }
                        },
                        "type": "bar"
                      }
                    ],
                    "barpolar": [
                      {
                        "marker": {
                          "line": {
                            "color": "#E5ECF6",
                            "width": 0.5
                          },
                          "pattern": {
                            "fillmode": "overlay",
                            "size": 10,
                            "solidity": 0.2
                          }
                        },
                        "type": "barpolar"
                      }
                    ],
                    "carpet": [
                      {
                        "aaxis": {
                          "endlinecolor": "#2a3f5f",
                          "gridcolor": "white",
                          "linecolor": "white",
                          "minorgridcolor": "white",
                          "startlinecolor": "#2a3f5f"
                        },
                        "baxis": {
                          "endlinecolor": "#2a3f5f",
                          "gridcolor": "white",
                          "linecolor": "white",
                          "minorgridcolor": "white",
                          "startlinecolor": "#2a3f5f"
                        },
                        "type": "carpet"
                      }
                    ],
                    "choropleth": [
                      {
                        "colorbar": {
                          "outlinewidth": 0,
                          "ticks": ""
                        },
                        "type": "choropleth"
                      }
                    ],
                    "contour": [
                      {
                        "colorbar": {
                          "outlinewidth": 0,
                          "ticks": ""
                        },
                        "colorscale": [
                          [
                            0,
                            "#0d0887"
                          ],
                          [
                            0.1111111111111111,
                            "#46039f"
                          ],
                          [
                            0.2222222222222222,
                            "#7201a8"
                          ],
                          [
                            0.3333333333333333,
                            "#9c179e"
                          ],
                          [
                            0.4444444444444444,
                            "#bd3786"
                          ],
                          [
                            0.5555555555555556,
                            "#d8576b"
                          ],
                          [
                            0.6666666666666666,
                            "#ed7953"
                          ],
                          [
                            0.7777777777777778,
                            "#fb9f3a"
                          ],
                          [
                            0.8888888888888888,
                            "#fdca26"
                          ],
                          [
                            1,
                            "#f0f921"
                          ]
                        ],
                        "type": "contour"
                      }
                    ],
                    "contourcarpet": [
                      {
                        "colorbar": {
                          "outlinewidth": 0,
                          "ticks": ""
                        },
                        "type": "contourcarpet"
                      }
                    ],
                    "heatmap": [
                      {
                        "colorbar": {
                          "outlinewidth": 0,
                          "ticks": ""
                        },
                        "colorscale": [
                          [
                            0,
                            "#0d0887"
                          ],
                          [
                            0.1111111111111111,
                            "#46039f"
                          ],
                          [
                            0.2222222222222222,
                            "#7201a8"
                          ],
                          [
                            0.3333333333333333,
                            "#9c179e"
                          ],
                          [
                            0.4444444444444444,
                            "#bd3786"
                          ],
                          [
                            0.5555555555555556,
                            "#d8576b"
                          ],
                          [
                            0.6666666666666666,
                            "#ed7953"
                          ],
                          [
                            0.7777777777777778,
                            "#fb9f3a"
                          ],
                          [
                            0.8888888888888888,
                            "#fdca26"
                          ],
                          [
                            1,
                            "#f0f921"
                          ]
                        ],
                        "type": "heatmap"
                      }
                    ],
                    "heatmapgl": [
                      {
                        "colorbar": {
                          "outlinewidth": 0,
                          "ticks": ""
                        },
                        "colorscale": [
                          [
                            0,
                            "#0d0887"
                          ],
                          [
                            0.1111111111111111,
                            "#46039f"
                          ],
                          [
                            0.2222222222222222,
                            "#7201a8"
                          ],
                          [
                            0.3333333333333333,
                            "#9c179e"
                          ],
                          [
                            0.4444444444444444,
                            "#bd3786"
                          ],
                          [
                            0.5555555555555556,
                            "#d8576b"
                          ],
                          [
                            0.6666666666666666,
                            "#ed7953"
                          ],
                          [
                            0.7777777777777778,
                            "#fb9f3a"
                          ],
                          [
                            0.8888888888888888,
                            "#fdca26"
                          ],
                          [
                            1,
                            "#f0f921"
                          ]
                        ],
                        "type": "heatmapgl"
                      }
                    ],
                    "histogram": [
                      {
                        "marker": {
                          "pattern": {
                            "fillmode": "overlay",
                            "size": 10,
                            "solidity": 0.2
                          }
                        },
                        "type": "histogram"
                      }
                    ],
                    "histogram2d": [
                      {
                        "colorbar": {
                          "outlinewidth": 0,
                          "ticks": ""
                        },
                        "colorscale": [
                          [
                            0,
                            "#0d0887"
                          ],
                          [
                            0.1111111111111111,
                            "#46039f"
                          ],
                          [
                            0.2222222222222222,
                            "#7201a8"
                          ],
                          [
                            0.3333333333333333,
                            "#9c179e"
                          ],
                          [
                            0.4444444444444444,
                            "#bd3786"
                          ],
                          [
                            0.5555555555555556,
                            "#d8576b"
                          ],
                          [
                            0.6666666666666666,
                            "#ed7953"
                          ],
                          [
                            0.7777777777777778,
                            "#fb9f3a"
                          ],
                          [
                            0.8888888888888888,
                            "#fdca26"
                          ],
                          [
                            1,
                            "#f0f921"
                          ]
                        ],
                        "type": "histogram2d"
                      }
                    ],
                    "histogram2dcontour": [
                      {
                        "colorbar": {
                          "outlinewidth": 0,
                          "ticks": ""
                        },
                        "colorscale": [
                          [
                            0,
                            "#0d0887"
                          ],
                          [
                            0.1111111111111111,
                            "#46039f"
                          ],
                          [
                            0.2222222222222222,
                            "#7201a8"
                          ],
                          [
                            0.3333333333333333,
                            "#9c179e"
                          ],
                          [
                            0.4444444444444444,
                            "#bd3786"
                          ],
                          [
                            0.5555555555555556,
                            "#d8576b"
                          ],
                          [
                            0.6666666666666666,
                            "#ed7953"
                          ],
                          [
                            0.7777777777777778,
                            "#fb9f3a"
                          ],
                          [
                            0.8888888888888888,
                            "#fdca26"
                          ],
                          [
                            1,
                            "#f0f921"
                          ]
                        ],
                        "type": "histogram2dcontour"
                      }
                    ],
                    "mesh3d": [
                      {
                        "colorbar": {
                          "outlinewidth": 0,
                          "ticks": ""
                        },
                        "type": "mesh3d"
                      }
                    ],
                    "parcoords": [
                      {
                        "line": {
                          "colorbar": {
                            "outlinewidth": 0,
                            "ticks": ""
                          }
                        },
                        "type": "parcoords"
                      }
                    ],
                    "pie": [
                      {
                        "automargin": true,
                        "type": "pie"
                      }
                    ],
                    "scatter": [
                      {
                        "fillpattern": {
                          "fillmode": "overlay",
                          "size": 10,
                          "solidity": 0.2
                        },
                        "type": "scatter"
                      }
                    ],
                    "scatter3d": [
                      {
                        "line": {
                          "colorbar": {
                            "outlinewidth": 0,
                            "ticks": ""
                          }
                        },
                        "marker": {
                          "colorbar": {
                            "outlinewidth": 0,
                            "ticks": ""
                          }
                        },
                        "type": "scatter3d"
                      }
                    ],
                    "scattercarpet": [
                      {
                        "marker": {
                          "colorbar": {
                            "outlinewidth": 0,
                            "ticks": ""
                          }
                        },
                        "type": "scattercarpet"
                      }
                    ],
                    "scattergeo": [
                      {
                        "marker": {
                          "colorbar": {
                            "outlinewidth": 0,
                            "ticks": ""
                          }
                        },
                        "type": "scattergeo"
                      }
                    ],
                    "scattergl": [
                      {
                        "marker": {
                          "colorbar": {
                            "outlinewidth": 0,
                            "ticks": ""
                          }
                        },
                        "type": "scattergl"
                      }
                    ],
                    "scattermapbox": [
                      {
                        "marker": {
                          "colorbar": {
                            "outlinewidth": 0,
                            "ticks": ""
                          }
                        },
                        "type": "scattermapbox"
                      }
                    ],
                    "scatterpolar": [
                      {
                        "marker": {
                          "colorbar": {
                            "outlinewidth": 0,
                            "ticks": ""
                          }
                        },
                        "type": "scatterpolar"
                      }
                    ],
                    "scatterpolargl": [
                      {
                        "marker": {
                          "colorbar": {
                            "outlinewidth": 0,
                            "ticks": ""
                          }
                        },
                        "type": "scatterpolargl"
                      }
                    ],
                    "scatterternary": [
                      {
                        "marker": {
                          "colorbar": {
                            "outlinewidth": 0,
                            "ticks": ""
                          }
                        },
                        "type": "scatterternary"
                      }
                    ],
                    "surface": [
                      {
                        "colorbar": {
                          "outlinewidth": 0,
                          "ticks": ""
                        },
                        "colorscale": [
                          [
                            0,
                            "#0d0887"
                          ],
                          [
                            0.1111111111111111,
                            "#46039f"
                          ],
                          [
                            0.2222222222222222,
                            "#7201a8"
                          ],
                          [
                            0.3333333333333333,
                            "#9c179e"
                          ],
                          [
                            0.4444444444444444,
                            "#bd3786"
                          ],
                          [
                            0.5555555555555556,
                            "#d8576b"
                          ],
                          [
                            0.6666666666666666,
                            "#ed7953"
                          ],
                          [
                            0.7777777777777778,
                            "#fb9f3a"
                          ],
                          [
                            0.8888888888888888,
                            "#fdca26"
                          ],
                          [
                            1,
                            "#f0f921"
                          ]
                        ],
                        "type": "surface"
                      }
                    ],
                    "table": [
                      {
                        "cells": {
                          "fill": {
                            "color": "#EBF0F8"
                          },
                          "line": {
                            "color": "white"
                          }
                        },
                        "header": {
                          "fill": {
                            "color": "#C8D4E3"
                          },
                          "line": {
                            "color": "white"
                          }
                        },
                        "type": "table"
                      }
                    ]
                  },
                  "layout": {
                    "annotationdefaults": {
                      "arrowcolor": "#2a3f5f",
                      "arrowhead": 0,
                      "arrowwidth": 1
                    },
                    "autotypenumbers": "strict",
                    "coloraxis": {
                      "colorbar": {
                        "outlinewidth": 0,
                        "ticks": ""
                      }
                    },
                    "colorscale": {
                      "diverging": [
                        [
                          0,
                          "#8e0152"
                        ],
                        [
                          0.1,
                          "#c51b7d"
                        ],
                        [
                          0.2,
                          "#de77ae"
                        ],
                        [
                          0.3,
                          "#f1b6da"
                        ],
                        [
                          0.4,
                          "#fde0ef"
                        ],
                        [
                          0.5,
                          "#f7f7f7"
                        ],
                        [
                          0.6,
                          "#e6f5d0"
                        ],
                        [
                          0.7,
                          "#b8e186"
                        ],
                        [
                          0.8,
                          "#7fbc41"
                        ],
                        [
                          0.9,
                          "#4d9221"
                        ],
                        [
                          1,
                          "#276419"
                        ]
                      ],
                      "sequential": [
                        [
                          0,
                          "#0d0887"
                        ],
                        [
                          0.1111111111111111,
                          "#46039f"
                        ],
                        [
                          0.2222222222222222,
                          "#7201a8"
                        ],
                        [
                          0.3333333333333333,
                          "#9c179e"
                        ],
                        [
                          0.4444444444444444,
                          "#bd3786"
                        ],
                        [
                          0.5555555555555556,
                          "#d8576b"
                        ],
                        [
                          0.6666666666666666,
                          "#ed7953"
                        ],
                        [
                          0.7777777777777778,
                          "#fb9f3a"
                        ],
                        [
                          0.8888888888888888,
                          "#fdca26"
                        ],
                        [
                          1,
                          "#f0f921"
                        ]
                      ],
                      "sequentialminus": [
                        [
                          0,
                          "#0d0887"
                        ],
                        [
                          0.1111111111111111,
                          "#46039f"
                        ],
                        [
                          0.2222222222222222,
                          "#7201a8"
                        ],
                        [
                          0.3333333333333333,
                          "#9c179e"
                        ],
                        [
                          0.4444444444444444,
                          "#bd3786"
                        ],
                        [
                          0.5555555555555556,
                          "#d8576b"
                        ],
                        [
                          0.6666666666666666,
                          "#ed7953"
                        ],
                        [
                          0.7777777777777778,
                          "#fb9f3a"
                        ],
                        [
                          0.8888888888888888,
                          "#fdca26"
                        ],
                        [
                          1,
                          "#f0f921"
                        ]
                      ]
                    },
                    "colorway": [
                      "#636efa",
                      "#EF553B",
                      "#00cc96",
                      "#ab63fa",
                      "#FFA15A",
                      "#19d3f3",
                      "#FF6692",
                      "#B6E880",
                      "#FF97FF",
                      "#FECB52"
                    ],
                    "font": {
                      "color": "#2a3f5f"
                    },
                    "geo": {
                      "bgcolor": "white",
                      "lakecolor": "white",
                      "landcolor": "#E5ECF6",
                      "showlakes": true,
                      "showland": true,
                      "subunitcolor": "white"
                    },
                    "hoverlabel": {
                      "align": "left"
                    },
                    "hovermode": "closest",
                    "mapbox": {
                      "style": "light"
                    },
                    "paper_bgcolor": "white",
                    "plot_bgcolor": "#E5ECF6",
                    "polar": {
                      "angularaxis": {
                        "gridcolor": "white",
                        "linecolor": "white",
                        "ticks": ""
                      },
                      "bgcolor": "#E5ECF6",
                      "radialaxis": {
                        "gridcolor": "white",
                        "linecolor": "white",
                        "ticks": ""
                      }
                    },
                    "scene": {
                      "xaxis": {
                        "backgroundcolor": "#E5ECF6",
                        "gridcolor": "white",
                        "gridwidth": 2,
                        "linecolor": "white",
                        "showbackground": true,
                        "ticks": "",
                        "zerolinecolor": "white"
                      },
                      "yaxis": {
                        "backgroundcolor": "#E5ECF6",
                        "gridcolor": "white",
                        "gridwidth": 2,
                        "linecolor": "white",
                        "showbackground": true,
                        "ticks": "",
                        "zerolinecolor": "white"
                      },
                      "zaxis": {
                        "backgroundcolor": "#E5ECF6",
                        "gridcolor": "white",
                        "gridwidth": 2,
                        "linecolor": "white",
                        "showbackground": true,
                        "ticks": "",
                        "zerolinecolor": "white"
                      }
                    },
                    "shapedefaults": {
                      "line": {
                        "color": "#2a3f5f"
                      }
                    },
                    "ternary": {
                      "aaxis": {
                        "gridcolor": "white",
                        "linecolor": "white",
                        "ticks": ""
                      },
                      "baxis": {
                        "gridcolor": "white",
                        "linecolor": "white",
                        "ticks": ""
                      },
                      "bgcolor": "#E5ECF6",
                      "caxis": {
                        "gridcolor": "white",
                        "linecolor": "white",
                        "ticks": ""
                      }
                    },
                    "title": {
                      "x": 0.05
                    },
                    "xaxis": {
                      "automargin": true,
                      "gridcolor": "white",
                      "linecolor": "white",
                      "ticks": "",
                      "title": {
                        "standoff": 15
                      },
                      "zerolinecolor": "white",
                      "zerolinewidth": 2
                    },
                    "yaxis": {
                      "automargin": true,
                      "gridcolor": "white",
                      "linecolor": "white",
                      "ticks": "",
                      "title": {
                        "standoff": 15
                      },
                      "zerolinecolor": "white",
                      "zerolinewidth": 2
                    }
                  }
                }
              }
            }
          },
          "metadata": {},
          "output_type": "display_data"
        },
        {
          "data": {
            "text/html": [
              "<div>\n",
              "<style scoped>\n",
              "    .dataframe tbody tr th:only-of-type {\n",
              "        vertical-align: middle;\n",
              "    }\n",
              "\n",
              "    .dataframe tbody tr th {\n",
              "        vertical-align: top;\n",
              "    }\n",
              "\n",
              "    .dataframe thead th {\n",
              "        text-align: right;\n",
              "    }\n",
              "</style>\n",
              "<table border=\"1\" class=\"dataframe\">\n",
              "  <thead>\n",
              "    <tr style=\"text-align: right;\">\n",
              "      <th></th>\n",
              "      <th>hp_90_90</th>\n",
              "      <th>atk_90_90</th>\n",
              "      <th>def_90_90</th>\n",
              "    </tr>\n",
              "  </thead>\n",
              "  <tbody>\n",
              "    <tr>\n",
              "      <th>0</th>\n",
              "      <td>13226</td>\n",
              "      <td>251</td>\n",
              "      <td>876</td>\n",
              "    </tr>\n",
              "    <tr>\n",
              "      <th>1</th>\n",
              "      <td>13348</td>\n",
              "      <td>313</td>\n",
              "      <td>781</td>\n",
              "    </tr>\n",
              "    <tr>\n",
              "      <th>2</th>\n",
              "      <td>10899</td>\n",
              "      <td>234</td>\n",
              "      <td>676</td>\n",
              "    </tr>\n",
              "    <tr>\n",
              "      <th>3</th>\n",
              "      <td>9461</td>\n",
              "      <td>223</td>\n",
              "      <td>601</td>\n",
              "    </tr>\n",
              "    <tr>\n",
              "      <th>4</th>\n",
              "      <td>12858</td>\n",
              "      <td>227</td>\n",
              "      <td>959</td>\n",
              "    </tr>\n",
              "    <tr>\n",
              "      <th>...</th>\n",
              "      <td>...</td>\n",
              "      <td>...</td>\n",
              "      <td>...</td>\n",
              "    </tr>\n",
              "    <tr>\n",
              "      <th>79</th>\n",
              "      <td>12288</td>\n",
              "      <td>212</td>\n",
              "      <td>750</td>\n",
              "    </tr>\n",
              "    <tr>\n",
              "      <th>80</th>\n",
              "      <td>14450</td>\n",
              "      <td>244</td>\n",
              "      <td>548</td>\n",
              "    </tr>\n",
              "    <tr>\n",
              "      <th>81</th>\n",
              "      <td>10164</td>\n",
              "      <td>323</td>\n",
              "      <td>615</td>\n",
              "    </tr>\n",
              "    <tr>\n",
              "      <th>82</th>\n",
              "      <td>10657</td>\n",
              "      <td>191</td>\n",
              "      <td>734</td>\n",
              "    </tr>\n",
              "    <tr>\n",
              "      <th>83</th>\n",
              "      <td>14695</td>\n",
              "      <td>251</td>\n",
              "      <td>738</td>\n",
              "    </tr>\n",
              "  </tbody>\n",
              "</table>\n",
              "<p>84 rows × 3 columns</p>\n",
              "</div>"
            ],
            "text/plain": [
              "    hp_90_90  atk_90_90  def_90_90\n",
              "0      13226        251        876\n",
              "1      13348        313        781\n",
              "2      10899        234        676\n",
              "3       9461        223        601\n",
              "4      12858        227        959\n",
              "..       ...        ...        ...\n",
              "79     12288        212        750\n",
              "80     14450        244        548\n",
              "81     10164        323        615\n",
              "82     10657        191        734\n",
              "83     14695        251        738\n",
              "\n",
              "[84 rows x 3 columns]"
            ]
          },
          "execution_count": 10,
          "metadata": {},
          "output_type": "execute_result"
        }
      ],
      "source": [
        "import plotly.graph_objs as go\n",
        "\n",
        "fig = go.Figure(data=[go.Scatter3d(\n",
        "    x=df['hp_90_90'],\n",
        "    y=df['atk_90_90'],\n",
        "    z=df['def_90_90'],\n",
        "    mode='markers'\n",
        ")])\n",
        "\n",
        "fig.update_layout(\n",
        "    scene=dict(\n",
        "        xaxis_title='HP',\n",
        "        yaxis_title='Attack',\n",
        "        zaxis_title='Defense'\n",
        "    )\n",
        ")\n",
        "\n",
        "fig.show()\n",
        "# Selanjutnya, kita hanya akan menggunakan data dengan kolom_2\n",
        "\n",
        "df_train = df[kolom_2]\n",
        "df_train"
      ]
    },
    {
      "cell_type": "code",
      "execution_count": 11,
      "metadata": {
        "colab": {
          "base_uri": "https://localhost:8080/"
        },
        "id": "gSRlZYjGrUje",
        "outputId": "54d50549-e1eb-4e64-f5a2-b07bd5e6c67d"
      },
      "outputs": [
        {
          "name": "stdout",
          "output_type": "stream",
          "text": [
            "wcss score for n_cluster = 2 is [61508946.17045454]\n",
            "silhoutte score for n_clusters = 2 is 0.6482207442032046\n",
            "wcss score for n_cluster = 3 is [61508946.17045454, 27158052.338442564]\n",
            "silhoutte score for n_clusters = 3 is 0.6709925097075251\n",
            "wcss score for n_cluster = 4 is [61508946.17045454, 27158052.338442564, 14560289.459554596]\n",
            "silhoutte score for n_clusters = 4 is 0.6379848887077988\n",
            "wcss score for n_cluster = 5 is [61508946.17045454, 27158052.338442564, 14560289.459554596, 7153260.622759103]\n",
            "silhoutte score for n_clusters = 5 is 0.652383862458625\n",
            "wcss score for n_cluster = 6 is [61508946.17045454, 27158052.338442564, 14560289.459554596, 7153260.622759103, 5086679.633259714]\n",
            "silhoutte score for n_clusters = 6 is 0.6621538257987974\n",
            "wcss score for n_cluster = 7 is [61508946.17045454, 27158052.338442564, 14560289.459554596, 7153260.622759103, 5086679.633259714, 3808935.8832597146]\n",
            "silhoutte score for n_clusters = 7 is 0.6554322709707177\n",
            "wcss score for n_cluster = 8 is [61508946.17045454, 27158052.338442564, 14560289.459554596, 7153260.622759103, 5086679.633259714, 3808935.8832597146, 2913034.281135531]\n",
            "silhoutte score for n_clusters = 8 is 0.6166247936987608\n",
            "wcss score for n_cluster = 9 is [61508946.17045454, 27158052.338442564, 14560289.459554596, 7153260.622759103, 5086679.633259714, 3808935.8832597146, 2913034.281135531, 2218817.771214896]\n",
            "silhoutte score for n_clusters = 9 is 0.6124858589353815\n"
          ]
        }
      ],
      "source": [
        "# Sekarang kita coba clustering data menggunakan KMeans\n",
        "# Tapi sebelum itu, kita tentukan nilai K yang paling optimum dengan Elbow Method dan Silhouette Score\n",
        "\n",
        "from sklearn.cluster import KMeans\n",
        "from sklearn.metrics import silhouette_score\n",
        "\n",
        "wcss = []\n",
        "scores = []\n",
        "for i in range(2, 10):\n",
        "    km = KMeans(n_clusters=i, init='k-means++', max_iter=300, n_init=10, random_state=42)\n",
        "    km.fit(df_train)\n",
        "    wcss.append(km.inertia_)\n",
        "\n",
        "    labels = km.labels_\n",
        "    silhouette_avg = silhouette_score(df_train, labels)\n",
        "    scores.append(silhouette_avg)\n",
        "    print('wcss score for n_cluster = ' + str(i) + ' is ' + str(wcss))\n",
        "    print('silhoutte score for n_clusters = ' + str(i) + ' is ' + str(silhouette_avg))"
      ]
    },
    {
      "cell_type": "code",
      "execution_count": 12,
      "metadata": {
        "colab": {
          "base_uri": "https://localhost:8080/",
          "height": 480
        },
        "id": "1TO5YELHr1vK",
        "outputId": "f306e9ac-3fa2-4055-df29-631db743640e"
      },
      "outputs": [
        {
          "data": {
            "image/png": "[encoded data removed]",
            "text/plain": [
              "<Figure size 640x480 with 1 Axes>"
            ]
          },
          "metadata": {},
          "output_type": "display_data"
        }
      ],
      "source": [
        "# Visualisasi Elbow Method\n",
        "plt.plot(range(2, 10), wcss)\n",
        "plt.title('The Elbow Method', fontsize = 20)\n",
        "plt.xlabel('No. of Clusters')\n",
        "plt.ylabel('WCSS')\n",
        "plt.show()"
      ]
    },
    {
      "cell_type": "code",
      "execution_count": 13,
      "metadata": {
        "colab": {
          "base_uri": "https://localhost:8080/",
          "height": 480
        },
        "id": "ruMuPFkTr6NQ",
        "outputId": "bd93bdee-8f2b-4a26-f0cb-f28a15f89fe8"
      },
      "outputs": [
        {
          "data": {
            "image/png": "[encoded data removed]",
            "text/plain": [
              "<Figure size 640x480 with 1 Axes>"
            ]
          },
          "metadata": {},
          "output_type": "display_data"
        }
      ],
      "source": [
        "# Visualisasi Silhouette Score\n",
        "plt.plot(range(2, 10), scores)\n",
        "plt.title('Silhouette Score', fontsize = 20)\n",
        "plt.xlabel('No. of Clusters')\n",
        "plt.ylabel('Score')\n",
        "plt.show()"
      ]
    },
    {
      "cell_type": "code",
      "execution_count": 14,
      "metadata": {
        "id": "CI5wib-UsAr-"
      },
      "outputs": [],
      "source": [
        "# Dari Elbow Method dan Sillhouette Score, kita akan menggunakan K = 3\n",
        "kmeansmodel = KMeans(n_clusters = 3, init = 'k-means++', max_iter = 300, n_init = 10, random_state = 42)\n",
        "y_kmeans= kmeansmodel.fit_predict(df_train)"
      ]
    },
    {
      "cell_type": "code",
      "execution_count": 15,
      "metadata": {
        "colab": {
          "base_uri": "https://localhost:8080/",
          "height": 542
        },
        "id": "wsJnbthOsRNR",
        "outputId": "d91b6248-bb67-468d-92ae-338a972d07a0"
      },
      "outputs": [
        {
          "data": {
            "application/vnd.plotly.v1+json": {
              "config": {
                "plotlyServerURL": "https://plot.ly"
              },
              "data": [
                {
                  "marker": {
                    "color": "red",
                    "opacity": 0.8,
                    "size": 8
                  },
                  "mode": "markers",
                  "name": "Cluster 1",
                  "type": "scatter3d",
                  "x": [
                    13226,
                    13348,
                    12858,
                    13348,
                    13050,
                    12397,
                    12490,
                    12981,
                    12397,
                    13226,
                    12071,
                    13348,
                    11636,
                    12858,
                    13715,
                    11962,
                    13103,
                    12179,
                    12288,
                    12397,
                    12506,
                    12071,
                    12368,
                    12907,
                    11962,
                    12289,
                    13471,
                    11854,
                    12993,
                    13103,
                    13592,
                    12736,
                    12288
                  ],
                  "y": [
                    251,
                    313,
                    227,
                    192,
                    225,
                    191,
                    318,
                    335,
                    223,
                    342,
                    254,
                    297,
                    223,
                    342,
                    299,
                    233,
                    323,
                    223,
                    212,
                    231,
                    223,
                    191,
                    287,
                    337,
                    234,
                    240,
                    234,
                    244,
                    304,
                    301,
                    310,
                    349,
                    212
                  ],
                  "z": [
                    876,
                    781,
                    959,
                    499,
                    648,
                    771,
                    859,
                    784,
                    723,
                    751,
                    708,
                    807,
                    792,
                    784,
                    769,
                    750,
                    799,
                    546,
                    750,
                    711,
                    713,
                    799,
                    922,
                    789,
                    751,
                    710,
                    657,
                    745,
                    830,
                    815,
                    763,
                    799,
                    750
                  ]
                },
                {
                  "marker": {
                    "color": "blue",
                    "opacity": 0.8,
                    "size": 8
                  },
                  "mode": "markers",
                  "name": "Cluster 2",
                  "type": "scatter3d",
                  "x": [
                    10899,
                    9461,
                    9787,
                    10874,
                    10766,
                    10984,
                    9787,
                    9570,
                    9569,
                    9189,
                    9797,
                    9570,
                    10287,
                    9570,
                    11092,
                    9570,
                    11021,
                    10409,
                    10360,
                    9787,
                    10657,
                    9243,
                    10331,
                    10849,
                    10875,
                    10875,
                    10875,
                    10875,
                    10875,
                    10875,
                    10875,
                    10875,
                    10875,
                    10875,
                    10531,
                    10164,
                    10875,
                    10223,
                    11201,
                    10372,
                    9352,
                    10164,
                    10657
                  ],
                  "y": [
                    234,
                    223,
                    159,
                    212,
                    173,
                    223,
                    199,
                    212,
                    196,
                    244,
                    335,
                    183,
                    311,
                    195,
                    216,
                    232,
                    318,
                    287,
                    298,
                    212,
                    225,
                    170,
                    202,
                    267,
                    212,
                    212,
                    212,
                    212,
                    212,
                    212,
                    212,
                    212,
                    212,
                    212,
                    263,
                    327,
                    225,
                    202,
                    249,
                    340,
                    240,
                    323,
                    191
                  ],
                  "z": [
                    676,
                    601,
                    669,
                    682,
                    546,
                    648,
                    600,
                    601,
                    627,
                    594,
                    630,
                    648,
                    615,
                    628,
                    655,
                    573,
                    537,
                    653,
                    630,
                    573,
                    683,
                    703,
                    751,
                    630,
                    683,
                    683,
                    683,
                    683,
                    683,
                    683,
                    683,
                    683,
                    683,
                    683,
                    669,
                    607,
                    669,
                    758,
                    799,
                    569,
                    587,
                    615,
                    734
                  ]
                },
                {
                  "marker": {
                    "color": "green",
                    "opacity": 0.8,
                    "size": 8
                  },
                  "mode": "markers",
                  "name": "Cluster 3",
                  "type": "scatter3d",
                  "x": [
                    15674,
                    15307,
                    15552,
                    14695,
                    15184,
                    14695,
                    14450,
                    14695
                  ],
                  "y": [
                    265,
                    243,
                    106,
                    239,
                    229,
                    208,
                    244,
                    251
                  ],
                  "z": [
                    627,
                    695,
                    876,
                    769,
                    728,
                    576,
                    548,
                    738
                  ]
                },
                {
                  "marker": {
                    "color": "black",
                    "opacity": 1,
                    "size": 12,
                    "symbol": "diamond"
                  },
                  "mode": "markers",
                  "name": "Centroids",
                  "type": "scatter3d",
                  "x": [
                    12697.515151515152,
                    10365.534883720931,
                    15031.5
                  ],
                  "y": [
                    264.24242424242425,
                    232.69767441860463,
                    223.125
                  ],
                  "z": [
                    760.9090909090909,
                    650.9302325581396,
                    694.625
                  ]
                }
              ],
              "layout": {
                "scene": {
                  "xaxis": {
                    "title": {
                      "text": "HP"
                    }
                  },
                  "yaxis": {
                    "title": {
                      "text": "ATK"
                    }
                  },
                  "zaxis": {
                    "title": {
                      "text": "DEF"
                    }
                  }
                },
                "showlegend": true,
                "template": {
                  "data": {
                    "bar": [
                      {
                        "error_x": {
                          "color": "#2a3f5f"
                        },
                        "error_y": {
                          "color": "#2a3f5f"
                        },
                        "marker": {
                          "line": {
                            "color": "#E5ECF6",
                            "width": 0.5
                          },
                          "pattern": {
                            "fillmode": "overlay",
                            "size": 10,
                            "solidity": 0.2
                          }
                        },
                        "type": "bar"
                      }
                    ],
                    "barpolar": [
                      {
                        "marker": {
                          "line": {
                            "color": "#E5ECF6",
                            "width": 0.5
                          },
                          "pattern": {
                            "fillmode": "overlay",
                            "size": 10,
                            "solidity": 0.2
                          }
                        },
                        "type": "barpolar"
                      }
                    ],
                    "carpet": [
                      {
                        "aaxis": {
                          "endlinecolor": "#2a3f5f",
                          "gridcolor": "white",
                          "linecolor": "white",
                          "minorgridcolor": "white",
                          "startlinecolor": "#2a3f5f"
                        },
                        "baxis": {
                          "endlinecolor": "#2a3f5f",
                          "gridcolor": "white",
                          "linecolor": "white",
                          "minorgridcolor": "white",
                          "startlinecolor": "#2a3f5f"
                        },
                        "type": "carpet"
                      }
                    ],
                    "choropleth": [
                      {
                        "colorbar": {
                          "outlinewidth": 0,
                          "ticks": ""
                        },
                        "type": "choropleth"
                      }
                    ],
                    "contour": [
                      {
                        "colorbar": {
                          "outlinewidth": 0,
                          "ticks": ""
                        },
                        "colorscale": [
                          [
                            0,
                            "#0d0887"
                          ],
                          [
                            0.1111111111111111,
                            "#46039f"
                          ],
                          [
                            0.2222222222222222,
                            "#7201a8"
                          ],
                          [
                            0.3333333333333333,
                            "#9c179e"
                          ],
                          [
                            0.4444444444444444,
                            "#bd3786"
                          ],
                          [
                            0.5555555555555556,
                            "#d8576b"
                          ],
                          [
                            0.6666666666666666,
                            "#ed7953"
                          ],
                          [
                            0.7777777777777778,
                            "#fb9f3a"
                          ],
                          [
                            0.8888888888888888,
                            "#fdca26"
                          ],
                          [
                            1,
                            "#f0f921"
                          ]
                        ],
                        "type": "contour"
                      }
                    ],
                    "contourcarpet": [
                      {
                        "colorbar": {
                          "outlinewidth": 0,
                          "ticks": ""
                        },
                        "type": "contourcarpet"
                      }
                    ],
                    "heatmap": [
                      {
                        "colorbar": {
                          "outlinewidth": 0,
                          "ticks": ""
                        },
                        "colorscale": [
                          [
                            0,
                            "#0d0887"
                          ],
                          [
                            0.1111111111111111,
                            "#46039f"
                          ],
                          [
                            0.2222222222222222,
                            "#7201a8"
                          ],
                          [
                            0.3333333333333333,
                            "#9c179e"
                          ],
                          [
                            0.4444444444444444,
                            "#bd3786"
                          ],
                          [
                            0.5555555555555556,
                            "#d8576b"
                          ],
                          [
                            0.6666666666666666,
                            "#ed7953"
                          ],
                          [
                            0.7777777777777778,
                            "#fb9f3a"
                          ],
                          [
                            0.8888888888888888,
                            "#fdca26"
                          ],
                          [
                            1,
                            "#f0f921"
                          ]
                        ],
                        "type": "heatmap"
                      }
                    ],
                    "heatmapgl": [
                      {
                        "colorbar": {
                          "outlinewidth": 0,
                          "ticks": ""
                        },
                        "colorscale": [
                          [
                            0,
                            "#0d0887"
                          ],
                          [
                            0.1111111111111111,
                            "#46039f"
                          ],
                          [
                            0.2222222222222222,
                            "#7201a8"
                          ],
                          [
                            0.3333333333333333,
                            "#9c179e"
                          ],
                          [
                            0.4444444444444444,
                            "#bd3786"
                          ],
                          [
                            0.5555555555555556,
                            "#d8576b"
                          ],
                          [
                            0.6666666666666666,
                            "#ed7953"
                          ],
                          [
                            0.7777777777777778,
                            "#fb9f3a"
                          ],
                          [
                            0.8888888888888888,
                            "#fdca26"
                          ],
                          [
                            1,
                            "#f0f921"
                          ]
                        ],
                        "type": "heatmapgl"
                      }
                    ],
                    "histogram": [
                      {
                        "marker": {
                          "pattern": {
                            "fillmode": "overlay",
                            "size": 10,
                            "solidity": 0.2
                          }
                        },
                        "type": "histogram"
                      }
                    ],
                    "histogram2d": [
                      {
                        "colorbar": {
                          "outlinewidth": 0,
                          "ticks": ""
                        },
                        "colorscale": [
                          [
                            0,
                            "#0d0887"
                          ],
                          [
                            0.1111111111111111,
                            "#46039f"
                          ],
                          [
                            0.2222222222222222,
                            "#7201a8"
                          ],
                          [
                            0.3333333333333333,
                            "#9c179e"
                          ],
                          [
                            0.4444444444444444,
                            "#bd3786"
                          ],
                          [
                            0.5555555555555556,
                            "#d8576b"
                          ],
                          [
                            0.6666666666666666,
                            "#ed7953"
                          ],
                          [
                            0.7777777777777778,
                            "#fb9f3a"
                          ],
                          [
                            0.8888888888888888,
                            "#fdca26"
                          ],
                          [
                            1,
                            "#f0f921"
                          ]
                        ],
                        "type": "histogram2d"
                      }
                    ],
                    "histogram2dcontour": [
                      {
                        "colorbar": {
                          "outlinewidth": 0,
                          "ticks": ""
                        },
                        "colorscale": [
                          [
                            0,
                            "#0d0887"
                          ],
                          [
                            0.1111111111111111,
                            "#46039f"
                          ],
                          [
                            0.2222222222222222,
                            "#7201a8"
                          ],
                          [
                            0.3333333333333333,
                            "#9c179e"
                          ],
                          [
                            0.4444444444444444,
                            "#bd3786"
                          ],
                          [
                            0.5555555555555556,
                            "#d8576b"
                          ],
                          [
                            0.6666666666666666,
                            "#ed7953"
                          ],
                          [
                            0.7777777777777778,
                            "#fb9f3a"
                          ],
                          [
                            0.8888888888888888,
                            "#fdca26"
                          ],
                          [
                            1,
                            "#f0f921"
                          ]
                        ],
                        "type": "histogram2dcontour"
                      }
                    ],
                    "mesh3d": [
                      {
                        "colorbar": {
                          "outlinewidth": 0,
                          "ticks": ""
                        },
                        "type": "mesh3d"
                      }
                    ],
                    "parcoords": [
                      {
                        "line": {
                          "colorbar": {
                            "outlinewidth": 0,
                            "ticks": ""
                          }
                        },
                        "type": "parcoords"
                      }
                    ],
                    "pie": [
                      {
                        "automargin": true,
                        "type": "pie"
                      }
                    ],
                    "scatter": [
                      {
                        "fillpattern": {
                          "fillmode": "overlay",
                          "size": 10,
                          "solidity": 0.2
                        },
                        "type": "scatter"
                      }
                    ],
                    "scatter3d": [
                      {
                        "line": {
                          "colorbar": {
                            "outlinewidth": 0,
                            "ticks": ""
                          }
                        },
                        "marker": {
                          "colorbar": {
                            "outlinewidth": 0,
                            "ticks": ""
                          }
                        },
                        "type": "scatter3d"
                      }
                    ],
                    "scattercarpet": [
                      {
                        "marker": {
                          "colorbar": {
                            "outlinewidth": 0,
                            "ticks": ""
                          }
                        },
                        "type": "scattercarpet"
                      }
                    ],
                    "scattergeo": [
                      {
                        "marker": {
                          "colorbar": {
                            "outlinewidth": 0,
                            "ticks": ""
                          }
                        },
                        "type": "scattergeo"
                      }
                    ],
                    "scattergl": [
                      {
                        "marker": {
                          "colorbar": {
                            "outlinewidth": 0,
                            "ticks": ""
                          }
                        },
                        "type": "scattergl"
                      }
                    ],
                    "scattermapbox": [
                      {
                        "marker": {
                          "colorbar": {
                            "outlinewidth": 0,
                            "ticks": ""
                          }
                        },
                        "type": "scattermapbox"
                      }
                    ],
                    "scatterpolar": [
                      {
                        "marker": {
                          "colorbar": {
                            "outlinewidth": 0,
                            "ticks": ""
                          }
                        },
                        "type": "scatterpolar"
                      }
                    ],
                    "scatterpolargl": [
                      {
                        "marker": {
                          "colorbar": {
                            "outlinewidth": 0,
                            "ticks": ""
                          }
                        },
                        "type": "scatterpolargl"
                      }
                    ],
                    "scatterternary": [
                      {
                        "marker": {
                          "colorbar": {
                            "outlinewidth": 0,
                            "ticks": ""
                          }
                        },
                        "type": "scatterternary"
                      }
                    ],
                    "surface": [
                      {
                        "colorbar": {
                          "outlinewidth": 0,
                          "ticks": ""
                        },
                        "colorscale": [
                          [
                            0,
                            "#0d0887"
                          ],
                          [
                            0.1111111111111111,
                            "#46039f"
                          ],
                          [
                            0.2222222222222222,
                            "#7201a8"
                          ],
                          [
                            0.3333333333333333,
                            "#9c179e"
                          ],
                          [
                            0.4444444444444444,
                            "#bd3786"
                          ],
                          [
                            0.5555555555555556,
                            "#d8576b"
                          ],
                          [
                            0.6666666666666666,
                            "#ed7953"
                          ],
                          [
                            0.7777777777777778,
                            "#fb9f3a"
                          ],
                          [
                            0.8888888888888888,
                            "#fdca26"
                          ],
                          [
                            1,
                            "#f0f921"
                          ]
                        ],
                        "type": "surface"
                      }
                    ],
                    "table": [
                      {
                        "cells": {
                          "fill": {
                            "color": "#EBF0F8"
                          },
                          "line": {
                            "color": "white"
                          }
                        },
                        "header": {
                          "fill": {
                            "color": "#C8D4E3"
                          },
                          "line": {
                            "color": "white"
                          }
                        },
                        "type": "table"
                      }
                    ]
                  },
                  "layout": {
                    "annotationdefaults": {
                      "arrowcolor": "#2a3f5f",
                      "arrowhead": 0,
                      "arrowwidth": 1
                    },
                    "autotypenumbers": "strict",
                    "coloraxis": {
                      "colorbar": {
                        "outlinewidth": 0,
                        "ticks": ""
                      }
                    },
                    "colorscale": {
                      "diverging": [
                        [
                          0,
                          "#8e0152"
                        ],
                        [
                          0.1,
                          "#c51b7d"
                        ],
                        [
                          0.2,
                          "#de77ae"
                        ],
                        [
                          0.3,
                          "#f1b6da"
                        ],
                        [
                          0.4,
                          "#fde0ef"
                        ],
                        [
                          0.5,
                          "#f7f7f7"
                        ],
                        [
                          0.6,
                          "#e6f5d0"
                        ],
                        [
                          0.7,
                          "#b8e186"
                        ],
                        [
                          0.8,
                          "#7fbc41"
                        ],
                        [
                          0.9,
                          "#4d9221"
                        ],
                        [
                          1,
                          "#276419"
                        ]
                      ],
                      "sequential": [
                        [
                          0,
                          "#0d0887"
                        ],
                        [
                          0.1111111111111111,
                          "#46039f"
                        ],
                        [
                          0.2222222222222222,
                          "#7201a8"
                        ],
                        [
                          0.3333333333333333,
                          "#9c179e"
                        ],
                        [
                          0.4444444444444444,
                          "#bd3786"
                        ],
                        [
                          0.5555555555555556,
                          "#d8576b"
                        ],
                        [
                          0.6666666666666666,
                          "#ed7953"
                        ],
                        [
                          0.7777777777777778,
                          "#fb9f3a"
                        ],
                        [
                          0.8888888888888888,
                          "#fdca26"
                        ],
                        [
                          1,
                          "#f0f921"
                        ]
                      ],
                      "sequentialminus": [
                        [
                          0,
                          "#0d0887"
                        ],
                        [
                          0.1111111111111111,
                          "#46039f"
                        ],
                        [
                          0.2222222222222222,
                          "#7201a8"
                        ],
                        [
                          0.3333333333333333,
                          "#9c179e"
                        ],
                        [
                          0.4444444444444444,
                          "#bd3786"
                        ],
                        [
                          0.5555555555555556,
                          "#d8576b"
                        ],
                        [
                          0.6666666666666666,
                          "#ed7953"
                        ],
                        [
                          0.7777777777777778,
                          "#fb9f3a"
                        ],
                        [
                          0.8888888888888888,
                          "#fdca26"
                        ],
                        [
                          1,
                          "#f0f921"
                        ]
                      ]
                    },
                    "colorway": [
                      "#636efa",
                      "#EF553B",
                      "#00cc96",
                      "#ab63fa",
                      "#FFA15A",
                      "#19d3f3",
                      "#FF6692",
                      "#B6E880",
                      "#FF97FF",
                      "#FECB52"
                    ],
                    "font": {
                      "color": "#2a3f5f"
                    },
                    "geo": {
                      "bgcolor": "white",
                      "lakecolor": "white",
                      "landcolor": "#E5ECF6",
                      "showlakes": true,
                      "showland": true,
                      "subunitcolor": "white"
                    },
                    "hoverlabel": {
                      "align": "left"
                    },
                    "hovermode": "closest",
                    "mapbox": {
                      "style": "light"
                    },
                    "paper_bgcolor": "white",
                    "plot_bgcolor": "#E5ECF6",
                    "polar": {
                      "angularaxis": {
                        "gridcolor": "white",
                        "linecolor": "white",
                        "ticks": ""
                      },
                      "bgcolor": "#E5ECF6",
                      "radialaxis": {
                        "gridcolor": "white",
                        "linecolor": "white",
                        "ticks": ""
                      }
                    },
                    "scene": {
                      "xaxis": {
                        "backgroundcolor": "#E5ECF6",
                        "gridcolor": "white",
                        "gridwidth": 2,
                        "linecolor": "white",
                        "showbackground": true,
                        "ticks": "",
                        "zerolinecolor": "white"
                      },
                      "yaxis": {
                        "backgroundcolor": "#E5ECF6",
                        "gridcolor": "white",
                        "gridwidth": 2,
                        "linecolor": "white",
                        "showbackground": true,
                        "ticks": "",
                        "zerolinecolor": "white"
                      },
                      "zaxis": {
                        "backgroundcolor": "#E5ECF6",
                        "gridcolor": "white",
                        "gridwidth": 2,
                        "linecolor": "white",
                        "showbackground": true,
                        "ticks": "",
                        "zerolinecolor": "white"
                      }
                    },
                    "shapedefaults": {
                      "line": {
                        "color": "#2a3f5f"
                      }
                    },
                    "ternary": {
                      "aaxis": {
                        "gridcolor": "white",
                        "linecolor": "white",
                        "ticks": ""
                      },
                      "baxis": {
                        "gridcolor": "white",
                        "linecolor": "white",
                        "ticks": ""
                      },
                      "bgcolor": "#E5ECF6",
                      "caxis": {
                        "gridcolor": "white",
                        "linecolor": "white",
                        "ticks": ""
                      }
                    },
                    "title": {
                      "x": 0.05
                    },
                    "xaxis": {
                      "automargin": true,
                      "gridcolor": "white",
                      "linecolor": "white",
                      "ticks": "",
                      "title": {
                        "standoff": 15
                      },
                      "zerolinecolor": "white",
                      "zerolinewidth": 2
                    },
                    "yaxis": {
                      "automargin": true,
                      "gridcolor": "white",
                      "linecolor": "white",
                      "ticks": "",
                      "title": {
                        "standoff": 15
                      },
                      "zerolinecolor": "white",
                      "zerolinewidth": 2
                    }
                  }
                },
                "title": {
                  "text": "Hasil KMeans Clustering"
                }
              }
            }
          },
          "metadata": {},
          "output_type": "display_data"
        }
      ],
      "source": [
        "# SEKARANG KITA VISUALISASIKAN\n",
        "\n",
        "# Membuat scatter plot 3D untuk setiap cluster dengan plotly\n",
        "trace1 = go.Scatter3d(\n",
        "    x=df_train[y_kmeans == 0].iloc[:, 0],\n",
        "    y=df_train[y_kmeans == 0].iloc[:, 1],\n",
        "    z=df_train[y_kmeans == 0].iloc[:, 2],\n",
        "    mode='markers',\n",
        "    marker=dict(size=8, color='red', opacity=0.8),\n",
        "    name='Cluster 1'\n",
        ")\n",
        "\n",
        "trace2 = go.Scatter3d(\n",
        "    x=df_train[y_kmeans == 1].iloc[:, 0],\n",
        "    y=df_train[y_kmeans == 1].iloc[:, 1],\n",
        "    z=df_train[y_kmeans == 1].iloc[:, 2],\n",
        "    mode='markers',\n",
        "    marker=dict(size=8, color='blue', opacity=0.8),\n",
        "    name='Cluster 2'\n",
        ")\n",
        "\n",
        "trace3 = go.Scatter3d(\n",
        "    x=df_train[y_kmeans == 2].iloc[:, 0],\n",
        "    y=df_train[y_kmeans == 2].iloc[:, 1],\n",
        "    z=df_train[y_kmeans == 2].iloc[:, 2],\n",
        "    mode='markers',\n",
        "    marker=dict(size=8, color='green', opacity=0.8),\n",
        "    name='Cluster 3'\n",
        ")\n",
        "\n",
        "# Scatter plot untuk menampilkan centroid dari K-Means\n",
        "centroids = go.Scatter3d(\n",
        "    x=kmeansmodel.cluster_centers_[:, 0],\n",
        "    y=kmeansmodel.cluster_centers_[:, 1],\n",
        "    z=kmeansmodel.cluster_centers_[:, 2],\n",
        "    mode='markers',\n",
        "    marker=dict(size=12, color='black', symbol='diamond', opacity=1),\n",
        "    name='Centroids'\n",
        ")\n",
        "\n",
        "# Membuat layout\n",
        "layout = go.Layout(\n",
        "    title='Hasil KMeans Clustering',\n",
        "    scene=dict(\n",
        "        xaxis_title='HP',\n",
        "        yaxis_title='ATK',\n",
        "        zaxis_title='DEF'\n",
        "    ),\n",
        "    showlegend=True\n",
        ")\n",
        "\n",
        "# Menggabungkan semua trace\n",
        "fig = go.Figure(data=[trace1, trace2, trace3, centroids], layout=layout)\n",
        "\n",
        "# Menampilkan plot interaktif\n",
        "fig.show()"
      ]
    },
    {
      "cell_type": "markdown",
      "metadata": {
        "id": "4aHBlrEGrUje"
      },
      "source": [
        "### Hierarchical Clustering\n",
        "\n",
        "**Definisi** = Algoritma yang menghasilkan cluster dengan cara menyusunnya seperti pohon hirarki\n",
        "\n",
        "![HC](./assets/HC.png)"
      ]
    },
    {
      "cell_type": "markdown",
      "metadata": {
        "id": "P-0zje020KgK"
      },
      "source": [
        "**Jenis Hierarchical Clustering**:\n",
        "1. Agglomerative (Bottom-Up)\n",
        "2. Divisive (Top-Down)"
      ]
    },
    {
      "cell_type": "markdown",
      "metadata": {
        "id": "J1iiwK_GvRjq"
      },
      "source": [
        "### [Coding Time] Hierarchical Clustering\n"
      ]
    },
    {
      "cell_type": "code",
      "execution_count": 16,
      "metadata": {
        "colab": {
          "base_uri": "https://localhost:8080/"
        },
        "id": "-Pup6_KZvHkl",
        "outputId": "56472513-bd2a-48d3-84b6-bbea6e5130a1"
      },
      "outputs": [
        {
          "name": "stdout",
          "output_type": "stream",
          "text": [
            "Linkage:  ward\n",
            "silhoutte score for n_clusters = 2 is 0.6464335726985453\n",
            "silhoutte score for n_clusters = 3 is 0.6709925097075251\n",
            "silhoutte score for n_clusters = 4 is 0.6492459732393346\n",
            "silhoutte score for n_clusters = 5 is 0.6603480046010003\n",
            "silhoutte score for n_clusters = 6 is 0.6535979368815843\n",
            "silhoutte score for n_clusters = 7 is 0.6468763820535044\n",
            "silhoutte score for n_clusters = 8 is 0.5821622085156519\n",
            "silhoutte score for n_clusters = 9 is 0.5861795311235307\n",
            "\n",
            "##########################\n",
            "\n",
            "Linkage:  complete\n",
            "silhoutte score for n_clusters = 2 is 0.6464335726985453\n",
            "silhoutte score for n_clusters = 3 is 0.6709925097075251\n",
            "silhoutte score for n_clusters = 4 is 0.6218814574862571\n",
            "silhoutte score for n_clusters = 5 is 0.6603480046010003\n",
            "silhoutte score for n_clusters = 6 is 0.6536264497729204\n",
            "silhoutte score for n_clusters = 7 is 0.6468763820535044\n",
            "silhoutte score for n_clusters = 8 is 0.6089853784449857\n",
            "silhoutte score for n_clusters = 9 is 0.5917789747134454\n",
            "\n",
            "##########################\n",
            "\n",
            "Linkage:  average\n",
            "silhoutte score for n_clusters = 2 is 0.5361735708433629\n",
            "silhoutte score for n_clusters = 3 is 0.6709925097075251\n",
            "silhoutte score for n_clusters = 4 is 0.6492459732393346\n",
            "silhoutte score for n_clusters = 5 is 0.6603480046010003\n",
            "silhoutte score for n_clusters = 6 is 0.6536264497729204\n",
            "silhoutte score for n_clusters = 7 is 0.5653401065933075\n",
            "silhoutte score for n_clusters = 8 is 0.5944522014056367\n",
            "silhoutte score for n_clusters = 9 is 0.5625145833424663\n",
            "\n",
            "##########################\n",
            "\n",
            "Linkage:  single\n",
            "silhoutte score for n_clusters = 2 is 0.5361735708433629\n",
            "silhoutte score for n_clusters = 3 is 0.4501818504007031\n",
            "silhoutte score for n_clusters = 4 is 0.6386195896609248\n",
            "silhoutte score for n_clusters = 5 is 0.617340166348801\n",
            "silhoutte score for n_clusters = 6 is 0.6082165613525286\n",
            "silhoutte score for n_clusters = 7 is 0.6026534913411906\n",
            "silhoutte score for n_clusters = 8 is 0.6389397747653103\n",
            "silhoutte score for n_clusters = 9 is 0.6227842209939736\n",
            "\n",
            "##########################\n",
            "\n"
          ]
        }
      ],
      "source": [
        "from sklearn.cluster import AgglomerativeClustering\n",
        "\n",
        "linkage_col = ['ward', 'complete', 'average', 'single']\n",
        "scores_all = [[] for _ in range(len(linkage_col))]\n",
        "for j in range (len(linkage_col)):\n",
        "    print('Linkage: ', linkage_col[j])\n",
        "    scores = []\n",
        "    for i in range(2, 10):\n",
        "        AC = AgglomerativeClustering(n_clusters=i, linkage = linkage_col[j]) # Menggunakan Ward Method\n",
        "        AC.fit(df_train)\n",
        "\n",
        "        labels = AC.labels_\n",
        "        silhouette_avg = silhouette_score(df_train, labels)\n",
        "        scores.append(silhouette_avg)\n",
        "        print('silhoutte score for n_clusters = ' + str(i) + ' is ' + str(silhouette_avg))\n",
        "    print(\"\\n##########################\\n\")\n",
        "    scores_all[j] = scores"
      ]
    },
    {
      "cell_type": "code",
      "execution_count": 17,
      "metadata": {
        "colab": {
          "base_uri": "https://localhost:8080/",
          "height": 472
        },
        "id": "__lqF8o5vhtC",
        "outputId": "509b545a-6ea5-4565-a7c1-dcf11a57f846"
      },
      "outputs": [
        {
          "data": {
            "image/png": "[encoded data removed]",
            "text/plain": [
              "<Figure size 640x480 with 1 Axes>"
            ]
          },
          "metadata": {},
          "output_type": "display_data"
        }
      ],
      "source": [
        "colors = sns.color_palette(\"Set1\", len(linkage_col))\n",
        "\n",
        "for j in range(len(linkage_col)):\n",
        "    plt.plot(range(2, 10), scores_all[j], marker='o', color=colors[j], label=linkage_col[j])\n",
        "\n",
        "plt.xlabel('Number of Clusters')\n",
        "plt.ylabel('Silhouette Score')\n",
        "plt.title('Silhouette Score vs. Number of Clusters for Different Linkage Methods')\n",
        "plt.legend()\n",
        "plt.grid(True)\n",
        "plt.show()"
      ]
    },
    {
      "cell_type": "code",
      "execution_count": 18,
      "metadata": {
        "colab": {
          "base_uri": "https://localhost:8080/",
          "height": 542
        },
        "id": "pb5AmjMnvqnJ",
        "outputId": "47cd3947-655f-46ff-84e1-beb8114d6ac8"
      },
      "outputs": [
        {
          "data": {
            "application/vnd.plotly.v1+json": {
              "config": {
                "plotlyServerURL": "https://plot.ly"
              },
              "data": [
                {
                  "marker": {
                    "color": "red",
                    "opacity": 0.8,
                    "size": 8
                  },
                  "mode": "markers",
                  "name": "Cluster 1",
                  "type": "scatter3d",
                  "x": [
                    10899,
                    9461,
                    9787,
                    10874,
                    10766,
                    10984,
                    9787,
                    9570,
                    9569,
                    9189,
                    9797,
                    9570,
                    10287,
                    9570,
                    11092,
                    9570,
                    11021,
                    10409,
                    10360,
                    9787,
                    10657,
                    9243,
                    10331,
                    10849,
                    10875,
                    10875,
                    10875,
                    10875,
                    10875,
                    10875,
                    10875,
                    10875,
                    10875,
                    10875,
                    10531,
                    10164,
                    10875,
                    10223,
                    11201,
                    10372,
                    9352,
                    10164,
                    10657
                  ],
                  "y": [
                    234,
                    223,
                    159,
                    212,
                    173,
                    223,
                    199,
                    212,
                    196,
                    244,
                    335,
                    183,
                    311,
                    195,
                    216,
                    232,
                    318,
                    287,
                    298,
                    212,
                    225,
                    170,
                    202,
                    267,
                    212,
                    212,
                    212,
                    212,
                    212,
                    212,
                    212,
                    212,
                    212,
                    212,
                    263,
                    327,
                    225,
                    202,
                    249,
                    340,
                    240,
                    323,
                    191
                  ],
                  "z": [
                    676,
                    601,
                    669,
                    682,
                    546,
                    648,
                    600,
                    601,
                    627,
                    594,
                    630,
                    648,
                    615,
                    628,
                    655,
                    573,
                    537,
                    653,
                    630,
                    573,
                    683,
                    703,
                    751,
                    630,
                    683,
                    683,
                    683,
                    683,
                    683,
                    683,
                    683,
                    683,
                    683,
                    683,
                    669,
                    607,
                    669,
                    758,
                    799,
                    569,
                    587,
                    615,
                    734
                  ]
                },
                {
                  "marker": {
                    "color": "blue",
                    "opacity": 0.8,
                    "size": 8
                  },
                  "mode": "markers",
                  "name": "Cluster 2",
                  "type": "scatter3d",
                  "x": [
                    15674,
                    15307,
                    15552,
                    14695,
                    15184,
                    14695,
                    14450,
                    14695
                  ],
                  "y": [
                    265,
                    243,
                    106,
                    239,
                    229,
                    208,
                    244,
                    251
                  ],
                  "z": [
                    627,
                    695,
                    876,
                    769,
                    728,
                    576,
                    548,
                    738
                  ]
                },
                {
                  "marker": {
                    "color": "green",
                    "opacity": 0.8,
                    "size": 8
                  },
                  "mode": "markers",
                  "name": "Cluster 3",
                  "type": "scatter3d",
                  "x": [
                    13226,
                    13348,
                    12858,
                    13348,
                    13050,
                    12397,
                    12490,
                    12981,
                    12397,
                    13226,
                    12071,
                    13348,
                    11636,
                    12858,
                    13715,
                    11962,
                    13103,
                    12179,
                    12288,
                    12397,
                    12506,
                    12071,
                    12368,
                    12907,
                    11962,
                    12289,
                    13471,
                    11854,
                    12993,
                    13103,
                    13592,
                    12736,
                    12288
                  ],
                  "y": [
                    251,
                    313,
                    227,
                    192,
                    225,
                    191,
                    318,
                    335,
                    223,
                    342,
                    254,
                    297,
                    223,
                    342,
                    299,
                    233,
                    323,
                    223,
                    212,
                    231,
                    223,
                    191,
                    287,
                    337,
                    234,
                    240,
                    234,
                    244,
                    304,
                    301,
                    310,
                    349,
                    212
                  ],
                  "z": [
                    876,
                    781,
                    959,
                    499,
                    648,
                    771,
                    859,
                    784,
                    723,
                    751,
                    708,
                    807,
                    792,
                    784,
                    769,
                    750,
                    799,
                    546,
                    750,
                    711,
                    713,
                    799,
                    922,
                    789,
                    751,
                    710,
                    657,
                    745,
                    830,
                    815,
                    763,
                    799,
                    750
                  ]
                },
                {
                  "marker": {
                    "color": "black",
                    "opacity": 1,
                    "size": 12,
                    "symbol": "diamond"
                  },
                  "mode": "markers",
                  "name": "Centroids",
                  "type": "scatter3d",
                  "x": [
                    10365.53488372093,
                    15031.5,
                    12697.515151515152
                  ],
                  "y": [
                    232.69767441860466,
                    223.125,
                    264.24242424242425
                  ],
                  "z": [
                    650.9302325581396,
                    694.625,
                    760.9090909090909
                  ]
                }
              ],
              "layout": {
                "scene": {
                  "xaxis": {
                    "title": {
                      "text": "HP"
                    }
                  },
                  "yaxis": {
                    "title": {
                      "text": "ATK"
                    }
                  },
                  "zaxis": {
                    "title": {
                      "text": "DEF"
                    }
                  }
                },
                "showlegend": true,
                "template": {
                  "data": {
                    "bar": [
                      {
                        "error_x": {
                          "color": "#2a3f5f"
                        },
                        "error_y": {
                          "color": "#2a3f5f"
                        },
                        "marker": {
                          "line": {
                            "color": "#E5ECF6",
                            "width": 0.5
                          },
                          "pattern": {
                            "fillmode": "overlay",
                            "size": 10,
                            "solidity": 0.2
                          }
                        },
                        "type": "bar"
                      }
                    ],
                    "barpolar": [
                      {
                        "marker": {
                          "line": {
                            "color": "#E5ECF6",
                            "width": 0.5
                          },
                          "pattern": {
                            "fillmode": "overlay",
                            "size": 10,
                            "solidity": 0.2
                          }
                        },
                        "type": "barpolar"
                      }
                    ],
                    "carpet": [
                      {
                        "aaxis": {
                          "endlinecolor": "#2a3f5f",
                          "gridcolor": "white",
                          "linecolor": "white",
                          "minorgridcolor": "white",
                          "startlinecolor": "#2a3f5f"
                        },
                        "baxis": {
                          "endlinecolor": "#2a3f5f",
                          "gridcolor": "white",
                          "linecolor": "white",
                          "minorgridcolor": "white",
                          "startlinecolor": "#2a3f5f"
                        },
                        "type": "carpet"
                      }
                    ],
                    "choropleth": [
                      {
                        "colorbar": {
                          "outlinewidth": 0,
                          "ticks": ""
                        },
                        "type": "choropleth"
                      }
                    ],
                    "contour": [
                      {
                        "colorbar": {
                          "outlinewidth": 0,
                          "ticks": ""
                        },
                        "colorscale": [
                          [
                            0,
                            "#0d0887"
                          ],
                          [
                            0.1111111111111111,
                            "#46039f"
                          ],
                          [
                            0.2222222222222222,
                            "#7201a8"
                          ],
                          [
                            0.3333333333333333,
                            "#9c179e"
                          ],
                          [
                            0.4444444444444444,
                            "#bd3786"
                          ],
                          [
                            0.5555555555555556,
                            "#d8576b"
                          ],
                          [
                            0.6666666666666666,
                            "#ed7953"
                          ],
                          [
                            0.7777777777777778,
                            "#fb9f3a"
                          ],
                          [
                            0.8888888888888888,
                            "#fdca26"
                          ],
                          [
                            1,
                            "#f0f921"
                          ]
                        ],
                        "type": "contour"
                      }
                    ],
                    "contourcarpet": [
                      {
                        "colorbar": {
                          "outlinewidth": 0,
                          "ticks": ""
                        },
                        "type": "contourcarpet"
                      }
                    ],
                    "heatmap": [
                      {
                        "colorbar": {
                          "outlinewidth": 0,
                          "ticks": ""
                        },
                        "colorscale": [
                          [
                            0,
                            "#0d0887"
                          ],
                          [
                            0.1111111111111111,
                            "#46039f"
                          ],
                          [
                            0.2222222222222222,
                            "#7201a8"
                          ],
                          [
                            0.3333333333333333,
                            "#9c179e"
                          ],
                          [
                            0.4444444444444444,
                            "#bd3786"
                          ],
                          [
                            0.5555555555555556,
                            "#d8576b"
                          ],
                          [
                            0.6666666666666666,
                            "#ed7953"
                          ],
                          [
                            0.7777777777777778,
                            "#fb9f3a"
                          ],
                          [
                            0.8888888888888888,
                            "#fdca26"
                          ],
                          [
                            1,
                            "#f0f921"
                          ]
                        ],
                        "type": "heatmap"
                      }
                    ],
                    "heatmapgl": [
                      {
                        "colorbar": {
                          "outlinewidth": 0,
                          "ticks": ""
                        },
                        "colorscale": [
                          [
                            0,
                            "#0d0887"
                          ],
                          [
                            0.1111111111111111,
                            "#46039f"
                          ],
                          [
                            0.2222222222222222,
                            "#7201a8"
                          ],
                          [
                            0.3333333333333333,
                            "#9c179e"
                          ],
                          [
                            0.4444444444444444,
                            "#bd3786"
                          ],
                          [
                            0.5555555555555556,
                            "#d8576b"
                          ],
                          [
                            0.6666666666666666,
                            "#ed7953"
                          ],
                          [
                            0.7777777777777778,
                            "#fb9f3a"
                          ],
                          [
                            0.8888888888888888,
                            "#fdca26"
                          ],
                          [
                            1,
                            "#f0f921"
                          ]
                        ],
                        "type": "heatmapgl"
                      }
                    ],
                    "histogram": [
                      {
                        "marker": {
                          "pattern": {
                            "fillmode": "overlay",
                            "size": 10,
                            "solidity": 0.2
                          }
                        },
                        "type": "histogram"
                      }
                    ],
                    "histogram2d": [
                      {
                        "colorbar": {
                          "outlinewidth": 0,
                          "ticks": ""
                        },
                        "colorscale": [
                          [
                            0,
                            "#0d0887"
                          ],
                          [
                            0.1111111111111111,
                            "#46039f"
                          ],
                          [
                            0.2222222222222222,
                            "#7201a8"
                          ],
                          [
                            0.3333333333333333,
                            "#9c179e"
                          ],
                          [
                            0.4444444444444444,
                            "#bd3786"
                          ],
                          [
                            0.5555555555555556,
                            "#d8576b"
                          ],
                          [
                            0.6666666666666666,
                            "#ed7953"
                          ],
                          [
                            0.7777777777777778,
                            "#fb9f3a"
                          ],
                          [
                            0.8888888888888888,
                            "#fdca26"
                          ],
                          [
                            1,
                            "#f0f921"
                          ]
                        ],
                        "type": "histogram2d"
                      }
                    ],
                    "histogram2dcontour": [
                      {
                        "colorbar": {
                          "outlinewidth": 0,
                          "ticks": ""
                        },
                        "colorscale": [
                          [
                            0,
                            "#0d0887"
                          ],
                          [
                            0.1111111111111111,
                            "#46039f"
                          ],
                          [
                            0.2222222222222222,
                            "#7201a8"
                          ],
                          [
                            0.3333333333333333,
                            "#9c179e"
                          ],
                          [
                            0.4444444444444444,
                            "#bd3786"
                          ],
                          [
                            0.5555555555555556,
                            "#d8576b"
                          ],
                          [
                            0.6666666666666666,
                            "#ed7953"
                          ],
                          [
                            0.7777777777777778,
                            "#fb9f3a"
                          ],
                          [
                            0.8888888888888888,
                            "#fdca26"
                          ],
                          [
                            1,
                            "#f0f921"
                          ]
                        ],
                        "type": "histogram2dcontour"
                      }
                    ],
                    "mesh3d": [
                      {
                        "colorbar": {
                          "outlinewidth": 0,
                          "ticks": ""
                        },
                        "type": "mesh3d"
                      }
                    ],
                    "parcoords": [
                      {
                        "line": {
                          "colorbar": {
                            "outlinewidth": 0,
                            "ticks": ""
                          }
                        },
                        "type": "parcoords"
                      }
                    ],
                    "pie": [
                      {
                        "automargin": true,
                        "type": "pie"
                      }
                    ],
                    "scatter": [
                      {
                        "fillpattern": {
                          "fillmode": "overlay",
                          "size": 10,
                          "solidity": 0.2
                        },
                        "type": "scatter"
                      }
                    ],
                    "scatter3d": [
                      {
                        "line": {
                          "colorbar": {
                            "outlinewidth": 0,
                            "ticks": ""
                          }
                        },
                        "marker": {
                          "colorbar": {
                            "outlinewidth": 0,
                            "ticks": ""
                          }
                        },
                        "type": "scatter3d"
                      }
                    ],
                    "scattercarpet": [
                      {
                        "marker": {
                          "colorbar": {
                            "outlinewidth": 0,
                            "ticks": ""
                          }
                        },
                        "type": "scattercarpet"
                      }
                    ],
                    "scattergeo": [
                      {
                        "marker": {
                          "colorbar": {
                            "outlinewidth": 0,
                            "ticks": ""
                          }
                        },
                        "type": "scattergeo"
                      }
                    ],
                    "scattergl": [
                      {
                        "marker": {
                          "colorbar": {
                            "outlinewidth": 0,
                            "ticks": ""
                          }
                        },
                        "type": "scattergl"
                      }
                    ],
                    "scattermapbox": [
                      {
                        "marker": {
                          "colorbar": {
                            "outlinewidth": 0,
                            "ticks": ""
                          }
                        },
                        "type": "scattermapbox"
                      }
                    ],
                    "scatterpolar": [
                      {
                        "marker": {
                          "colorbar": {
                            "outlinewidth": 0,
                            "ticks": ""
                          }
                        },
                        "type": "scatterpolar"
                      }
                    ],
                    "scatterpolargl": [
                      {
                        "marker": {
                          "colorbar": {
                            "outlinewidth": 0,
                            "ticks": ""
                          }
                        },
                        "type": "scatterpolargl"
                      }
                    ],
                    "scatterternary": [
                      {
                        "marker": {
                          "colorbar": {
                            "outlinewidth": 0,
                            "ticks": ""
                          }
                        },
                        "type": "scatterternary"
                      }
                    ],
                    "surface": [
                      {
                        "colorbar": {
                          "outlinewidth": 0,
                          "ticks": ""
                        },
                        "colorscale": [
                          [
                            0,
                            "#0d0887"
                          ],
                          [
                            0.1111111111111111,
                            "#46039f"
                          ],
                          [
                            0.2222222222222222,
                            "#7201a8"
                          ],
                          [
                            0.3333333333333333,
                            "#9c179e"
                          ],
                          [
                            0.4444444444444444,
                            "#bd3786"
                          ],
                          [
                            0.5555555555555556,
                            "#d8576b"
                          ],
                          [
                            0.6666666666666666,
                            "#ed7953"
                          ],
                          [
                            0.7777777777777778,
                            "#fb9f3a"
                          ],
                          [
                            0.8888888888888888,
                            "#fdca26"
                          ],
                          [
                            1,
                            "#f0f921"
                          ]
                        ],
                        "type": "surface"
                      }
                    ],
                    "table": [
                      {
                        "cells": {
                          "fill": {
                            "color": "#EBF0F8"
                          },
                          "line": {
                            "color": "white"
                          }
                        },
                        "header": {
                          "fill": {
                            "color": "#C8D4E3"
                          },
                          "line": {
                            "color": "white"
                          }
                        },
                        "type": "table"
                      }
                    ]
                  },
                  "layout": {
                    "annotationdefaults": {
                      "arrowcolor": "#2a3f5f",
                      "arrowhead": 0,
                      "arrowwidth": 1
                    },
                    "autotypenumbers": "strict",
                    "coloraxis": {
                      "colorbar": {
                        "outlinewidth": 0,
                        "ticks": ""
                      }
                    },
                    "colorscale": {
                      "diverging": [
                        [
                          0,
                          "#8e0152"
                        ],
                        [
                          0.1,
                          "#c51b7d"
                        ],
                        [
                          0.2,
                          "#de77ae"
                        ],
                        [
                          0.3,
                          "#f1b6da"
                        ],
                        [
                          0.4,
                          "#fde0ef"
                        ],
                        [
                          0.5,
                          "#f7f7f7"
                        ],
                        [
                          0.6,
                          "#e6f5d0"
                        ],
                        [
                          0.7,
                          "#b8e186"
                        ],
                        [
                          0.8,
                          "#7fbc41"
                        ],
                        [
                          0.9,
                          "#4d9221"
                        ],
                        [
                          1,
                          "#276419"
                        ]
                      ],
                      "sequential": [
                        [
                          0,
                          "#0d0887"
                        ],
                        [
                          0.1111111111111111,
                          "#46039f"
                        ],
                        [
                          0.2222222222222222,
                          "#7201a8"
                        ],
                        [
                          0.3333333333333333,
                          "#9c179e"
                        ],
                        [
                          0.4444444444444444,
                          "#bd3786"
                        ],
                        [
                          0.5555555555555556,
                          "#d8576b"
                        ],
                        [
                          0.6666666666666666,
                          "#ed7953"
                        ],
                        [
                          0.7777777777777778,
                          "#fb9f3a"
                        ],
                        [
                          0.8888888888888888,
                          "#fdca26"
                        ],
                        [
                          1,
                          "#f0f921"
                        ]
                      ],
                      "sequentialminus": [
                        [
                          0,
                          "#0d0887"
                        ],
                        [
                          0.1111111111111111,
                          "#46039f"
                        ],
                        [
                          0.2222222222222222,
                          "#7201a8"
                        ],
                        [
                          0.3333333333333333,
                          "#9c179e"
                        ],
                        [
                          0.4444444444444444,
                          "#bd3786"
                        ],
                        [
                          0.5555555555555556,
                          "#d8576b"
                        ],
                        [
                          0.6666666666666666,
                          "#ed7953"
                        ],
                        [
                          0.7777777777777778,
                          "#fb9f3a"
                        ],
                        [
                          0.8888888888888888,
                          "#fdca26"
                        ],
                        [
                          1,
                          "#f0f921"
                        ]
                      ]
                    },
                    "colorway": [
                      "#636efa",
                      "#EF553B",
                      "#00cc96",
                      "#ab63fa",
                      "#FFA15A",
                      "#19d3f3",
                      "#FF6692",
                      "#B6E880",
                      "#FF97FF",
                      "#FECB52"
                    ],
                    "font": {
                      "color": "#2a3f5f"
                    },
                    "geo": {
                      "bgcolor": "white",
                      "lakecolor": "white",
                      "landcolor": "#E5ECF6",
                      "showlakes": true,
                      "showland": true,
                      "subunitcolor": "white"
                    },
                    "hoverlabel": {
                      "align": "left"
                    },
                    "hovermode": "closest",
                    "mapbox": {
                      "style": "light"
                    },
                    "paper_bgcolor": "white",
                    "plot_bgcolor": "#E5ECF6",
                    "polar": {
                      "angularaxis": {
                        "gridcolor": "white",
                        "linecolor": "white",
                        "ticks": ""
                      },
                      "bgcolor": "#E5ECF6",
                      "radialaxis": {
                        "gridcolor": "white",
                        "linecolor": "white",
                        "ticks": ""
                      }
                    },
                    "scene": {
                      "xaxis": {
                        "backgroundcolor": "#E5ECF6",
                        "gridcolor": "white",
                        "gridwidth": 2,
                        "linecolor": "white",
                        "showbackground": true,
                        "ticks": "",
                        "zerolinecolor": "white"
                      },
                      "yaxis": {
                        "backgroundcolor": "#E5ECF6",
                        "gridcolor": "white",
                        "gridwidth": 2,
                        "linecolor": "white",
                        "showbackground": true,
                        "ticks": "",
                        "zerolinecolor": "white"
                      },
                      "zaxis": {
                        "backgroundcolor": "#E5ECF6",
                        "gridcolor": "white",
                        "gridwidth": 2,
                        "linecolor": "white",
                        "showbackground": true,
                        "ticks": "",
                        "zerolinecolor": "white"
                      }
                    },
                    "shapedefaults": {
                      "line": {
                        "color": "#2a3f5f"
                      }
                    },
                    "ternary": {
                      "aaxis": {
                        "gridcolor": "white",
                        "linecolor": "white",
                        "ticks": ""
                      },
                      "baxis": {
                        "gridcolor": "white",
                        "linecolor": "white",
                        "ticks": ""
                      },
                      "bgcolor": "#E5ECF6",
                      "caxis": {
                        "gridcolor": "white",
                        "linecolor": "white",
                        "ticks": ""
                      }
                    },
                    "title": {
                      "x": 0.05
                    },
                    "xaxis": {
                      "automargin": true,
                      "gridcolor": "white",
                      "linecolor": "white",
                      "ticks": "",
                      "title": {
                        "standoff": 15
                      },
                      "zerolinecolor": "white",
                      "zerolinewidth": 2
                    },
                    "yaxis": {
                      "automargin": true,
                      "gridcolor": "white",
                      "linecolor": "white",
                      "ticks": "",
                      "title": {
                        "standoff": 15
                      },
                      "zerolinecolor": "white",
                      "zerolinewidth": 2
                    }
                  }
                },
                "title": {
                  "text": "Hasil Agglomerative Clustering 3D"
                }
              }
            }
          },
          "metadata": {},
          "output_type": "display_data"
        }
      ],
      "source": [
        "banyak_cluster = 3\n",
        "AC = AgglomerativeClustering(n_clusters=banyak_cluster, linkage='average')\n",
        "labels = AC.fit_predict(df_train)\n",
        "\n",
        "df_train_with_labels = np.column_stack((df_train, labels))\n",
        "\n",
        "centroids = []\n",
        "for cluster_label in range(banyak_cluster):\n",
        "    cluster_data = df_train_with_labels[df_train_with_labels[:, -1] == cluster_label]\n",
        "    cluster_centroid = np.mean(cluster_data[:, :-1], axis=0)\n",
        "    centroids.append(cluster_centroid)\n",
        "centroids = np.array(centroids)\n",
        "\n",
        "traces = []\n",
        "colors = ['red', 'blue', 'green']\n",
        "\n",
        "for cluster_label in range(banyak_cluster):\n",
        "    cluster_data = df_train_with_labels[df_train_with_labels[:, -1] == cluster_label]\n",
        "    trace = go.Scatter3d(\n",
        "        x=cluster_data[:, 0],\n",
        "        y=cluster_data[:, 1],\n",
        "        z=cluster_data[:, 2],\n",
        "        mode='markers',\n",
        "        marker=dict(size=8, color=colors[cluster_label], opacity=0.8),\n",
        "        name=f'Cluster {cluster_label + 1}'\n",
        "    )\n",
        "    traces.append(trace)\n",
        "\n",
        "centroid_trace = go.Scatter3d(\n",
        "    x=centroids[:, 0],\n",
        "    y=centroids[:, 1],\n",
        "    z=centroids[:, 2],\n",
        "    mode='markers',\n",
        "    marker=dict(size=12, color='black', symbol='diamond', opacity=1),\n",
        "    name='Centroids'\n",
        ")\n",
        "\n",
        "traces.append(centroid_trace)\n",
        "\n",
        "layout = go.Layout(\n",
        "    title='Hasil Agglomerative Clustering 3D',\n",
        "    scene=dict(\n",
        "        xaxis_title='HP',\n",
        "        yaxis_title='ATK',\n",
        "        zaxis_title='DEF'\n",
        "    ),\n",
        "    showlegend=True\n",
        ")\n",
        "\n",
        "fig = go.Figure(data=traces, layout=layout)\n",
        "fig.show()"
      ]
    },
    {
      "cell_type": "code",
      "execution_count": 19,
      "metadata": {
        "colab": {
          "base_uri": "https://localhost:8080/",
          "height": 869
        },
        "id": "OxNys_oA1aab",
        "outputId": "f3de0e8c-5faa-4cc7-ef12-235139e0e58e"
      },
      "outputs": [
        {
          "data": {
            "image/png": "[encoded data removed]",
            "text/plain": [
              "<Figure size 1500x1000 with 1 Axes>"
            ]
          },
          "metadata": {},
          "output_type": "display_data"
        }
      ],
      "source": [
        "import scipy.cluster.hierarchy as sch\n",
        "\n",
        "linked = sch.linkage(df_train, 'average')\n",
        "\n",
        "\n",
        "plt.figure(figsize=(15, 10))\n",
        "dendrogram = sch.dendrogram(linked, orientation='top',distance_sort='descending', show_leaf_counts=True)\n",
        "plt.title('Dendrogram')\n",
        "plt.xlabel('Data Point')\n",
        "plt.ylabel('Distance')\n",
        "plt.axhline(y=1500, color='black', linestyle='--') # at this point, will divide the data into 3 clusters\n",
        "plt.show()"
      ]
    },
    {
      "cell_type": "markdown",
      "metadata": {
        "id": "ARhUfAWPrUje"
      },
      "source": [
        "### DBSCAN\n",
        "\n",
        "**Definisi** = Density-Based Spatial Clustering of Applications with Noise (DBSCAN) adalah algoritma dasar untuk pengelompokan berbasis density. DBSCAN juga bisa digunakan untuk meng-*handle* outlier.\n",
        "\n",
        "![DBSCAN](./assets/DBSCAN.gif)"
      ]
    },
    {
      "cell_type": "code",
      "execution_count": 20,
      "metadata": {
        "colab": {
          "base_uri": "https://localhost:8080/"
        },
        "id": "l44XvIxn2EaJ",
        "outputId": "12696226-15d9-456e-cbc9-45e55d80ef5d"
      },
      "outputs": [
        {
          "name": "stdout",
          "output_type": "stream",
          "text": [
            "epsilon = 1.8000000000000003 \n",
            "min_samples = 1 \n",
            "number of clusters = 71 \n",
            "average silhouette score = 0.1986\n"
          ]
        }
      ],
      "source": [
        "from sklearn.cluster import DBSCAN\n",
        "\n",
        "epsilon = np.arange(0.1, 6, 0.1)\n",
        "min_samples = range(1,26)\n",
        "\n",
        "sil_avg = []\n",
        "max_value = (0, 0, 0, -1)  # Inisialisasi nilai_maks dengan nilai negatif silhouette score\n",
        "\n",
        "for i in range(len(epsilon)):\n",
        "    for j in range(len(min_samples)):\n",
        "        db = DBSCAN(min_samples=min_samples[j], eps=epsilon[i]).fit(df_train)\n",
        "\n",
        "        # Periksa apakah ada setidaknya dua cluster\n",
        "        unique_labels = set(db.labels_)\n",
        "        if len(unique_labels) >= 2:\n",
        "            core_samples_mask = np.zeros_like(db.labels_, dtype=bool)\n",
        "            core_samples_mask[db.core_sample_indices_] = True\n",
        "            labels = db.labels_\n",
        "\n",
        "            # Jumlah cluster dalam label, mengabaikan noise jika ada\n",
        "            n_clusters_ = len(unique_labels) - (1 if -1 in labels else 0)\n",
        "            n_noise_ = list(labels).count(-1)\n",
        "\n",
        "            silhouette_avg = silhouette_score(df_train, labels)\n",
        "            sil_avg.append(silhouette_avg)\n",
        "\n",
        "            if silhouette_avg > max_value[3]:\n",
        "                max_value = (epsilon[i], min_samples[j], n_clusters_, silhouette_avg)\n",
        "\n",
        "print(\"epsilon =\", max_value[0],\n",
        "      \"\\nmin_samples =\", max_value[1],\n",
        "      \"\\nnumber of clusters =\", max_value[2],\n",
        "      \"\\naverage silhouette score = %.4f\" % max_value[3])"
      ]
    },
    {
      "cell_type": "code",
      "execution_count": 21,
      "metadata": {
        "colab": {
          "base_uri": "https://localhost:8080/",
          "height": 542
        },
        "id": "iNB3VqN321-1",
        "outputId": "1e68db50-26ce-4a03-81bf-2ddbe0ca37f3"
      },
      "outputs": [
        {
          "data": {
            "application/vnd.plotly.v1+json": {
              "config": {
                "plotlyServerURL": "https://plot.ly"
              },
              "data": [
                {
                  "marker": {
                    "color": [
                      "blue",
                      "red",
                      "green",
                      "purple",
                      "orange",
                      "brown",
                      "pink",
                      "gray",
                      "yellow",
                      "blue",
                      "red",
                      "green",
                      "purple",
                      "orange",
                      "brown",
                      "pink",
                      "gray",
                      "yellow",
                      "blue",
                      "red",
                      "green",
                      "purple",
                      "orange",
                      "brown",
                      "pink",
                      "gray",
                      "yellow",
                      "blue",
                      "red",
                      "green",
                      "purple",
                      "orange",
                      "brown",
                      "pink",
                      "gray",
                      "red",
                      "yellow",
                      "blue",
                      "red",
                      "green",
                      "purple",
                      "orange",
                      "brown",
                      "pink",
                      "gray",
                      "yellow",
                      "blue",
                      "red",
                      "green",
                      "purple",
                      "orange",
                      "orange",
                      "brown",
                      "pink",
                      "gray",
                      "yellow",
                      "blue",
                      "red",
                      "green",
                      "purple",
                      "blue",
                      "blue",
                      "blue",
                      "blue",
                      "blue",
                      "blue",
                      "blue",
                      "blue",
                      "blue",
                      "blue",
                      "orange",
                      "brown",
                      "pink",
                      "gray",
                      "yellow",
                      "blue",
                      "red",
                      "green",
                      "purple",
                      "yellow",
                      "orange",
                      "brown",
                      "pink",
                      "gray"
                    ],
                    "opacity": 0.8,
                    "size": 8
                  },
                  "mode": "markers",
                  "name": "Data Points",
                  "text": [
                    "Cluster 0",
                    "Cluster 1",
                    "Cluster 2",
                    "Cluster 3",
                    "Cluster 4",
                    "Cluster 5",
                    "Cluster 6",
                    "Cluster 7",
                    "Cluster 8",
                    "Cluster 9",
                    "Cluster 10",
                    "Cluster 11",
                    "Cluster 12",
                    "Cluster 13",
                    "Cluster 14",
                    "Cluster 15",
                    "Cluster 16",
                    "Cluster 17",
                    "Cluster 18",
                    "Cluster 19",
                    "Cluster 20",
                    "Cluster 21",
                    "Cluster 22",
                    "Cluster 23",
                    "Cluster 24",
                    "Cluster 25",
                    "Cluster 26",
                    "Cluster 27",
                    "Cluster 28",
                    "Cluster 29",
                    "Cluster 30",
                    "Cluster 31",
                    "Cluster 32",
                    "Cluster 33",
                    "Cluster 34",
                    "Cluster 19",
                    "Cluster 35",
                    "Cluster 36",
                    "Cluster 37",
                    "Cluster 38",
                    "Cluster 39",
                    "Cluster 40",
                    "Cluster 41",
                    "Cluster 42",
                    "Cluster 43",
                    "Cluster 44",
                    "Cluster 45",
                    "Cluster 46",
                    "Cluster 47",
                    "Cluster 48",
                    "Cluster 31",
                    "Cluster 49",
                    "Cluster 50",
                    "Cluster 51",
                    "Cluster 52",
                    "Cluster 53",
                    "Cluster 54",
                    "Cluster 55",
                    "Cluster 56",
                    "Cluster 57",
                    "Cluster 9",
                    "Cluster 9",
                    "Cluster 9",
                    "Cluster 9",
                    "Cluster 9",
                    "Cluster 9",
                    "Cluster 9",
                    "Cluster 9",
                    "Cluster 9",
                    "Cluster 9",
                    "Cluster 58",
                    "Cluster 59",
                    "Cluster 60",
                    "Cluster 61",
                    "Cluster 62",
                    "Cluster 63",
                    "Cluster 64",
                    "Cluster 65",
                    "Cluster 66",
                    "Cluster 35",
                    "Cluster 67",
                    "Cluster 68",
                    "Cluster 69",
                    "Cluster 70"
                  ],
                  "type": "scatter3d",
                  "x": [
                    13226,
                    13348,
                    10899,
                    9461,
                    12858,
                    13348,
                    9787,
                    13050,
                    12397,
                    10874,
                    10766,
                    10984,
                    9787,
                    12490,
                    15674,
                    12981,
                    9570,
                    12397,
                    13226,
                    9569,
                    9189,
                    12071,
                    15307,
                    9797,
                    9570,
                    15552,
                    14695,
                    13348,
                    11636,
                    12858,
                    13715,
                    11962,
                    13103,
                    12179,
                    10287,
                    9570,
                    12288,
                    11092,
                    9570,
                    12397,
                    11021,
                    12506,
                    10409,
                    10360,
                    15184,
                    9787,
                    12071,
                    14695,
                    12368,
                    12907,
                    11962,
                    12289,
                    13471,
                    11854,
                    12993,
                    10657,
                    9243,
                    13103,
                    10331,
                    10849,
                    10875,
                    10875,
                    10875,
                    10875,
                    10875,
                    10875,
                    10875,
                    10875,
                    10875,
                    10875,
                    10531,
                    10164,
                    13592,
                    10875,
                    12736,
                    10223,
                    11201,
                    10372,
                    9352,
                    12288,
                    14450,
                    10164,
                    10657,
                    14695
                  ],
                  "y": [
                    251,
                    313,
                    234,
                    223,
                    227,
                    192,
                    159,
                    225,
                    191,
                    212,
                    173,
                    223,
                    199,
                    318,
                    265,
                    335,
                    212,
                    223,
                    342,
                    196,
                    244,
                    254,
                    243,
                    335,
                    183,
                    106,
                    239,
                    297,
                    223,
                    342,
                    299,
                    233,
                    323,
                    223,
                    311,
                    195,
                    212,
                    216,
                    232,
                    231,
                    318,
                    223,
                    287,
                    298,
                    229,
                    212,
                    191,
                    208,
                    287,
                    337,
                    234,
                    240,
                    234,
                    244,
                    304,
                    225,
                    170,
                    301,
                    202,
                    267,
                    212,
                    212,
                    212,
                    212,
                    212,
                    212,
                    212,
                    212,
                    212,
                    212,
                    263,
                    327,
                    310,
                    225,
                    349,
                    202,
                    249,
                    340,
                    240,
                    212,
                    244,
                    323,
                    191,
                    251
                  ],
                  "z": [
                    876,
                    781,
                    676,
                    601,
                    959,
                    499,
                    669,
                    648,
                    771,
                    682,
                    546,
                    648,
                    600,
                    859,
                    627,
                    784,
                    601,
                    723,
                    751,
                    627,
                    594,
                    708,
                    695,
                    630,
                    648,
                    876,
                    769,
                    807,
                    792,
                    784,
                    769,
                    750,
                    799,
                    546,
                    615,
                    628,
                    750,
                    655,
                    573,
                    711,
                    537,
                    713,
                    653,
                    630,
                    728,
                    573,
                    799,
                    576,
                    922,
                    789,
                    751,
                    710,
                    657,
                    745,
                    830,
                    683,
                    703,
                    815,
                    751,
                    630,
                    683,
                    683,
                    683,
                    683,
                    683,
                    683,
                    683,
                    683,
                    683,
                    683,
                    669,
                    607,
                    763,
                    669,
                    799,
                    758,
                    799,
                    569,
                    587,
                    750,
                    548,
                    615,
                    734,
                    738
                  ]
                }
              ],
              "layout": {
                "scene": {
                  "xaxis": {
                    "title": {
                      "text": "HP"
                    }
                  },
                  "yaxis": {
                    "title": {
                      "text": "ATK"
                    }
                  },
                  "zaxis": {
                    "title": {
                      "text": "DEF"
                    }
                  }
                },
                "showlegend": false,
                "template": {
                  "data": {
                    "bar": [
                      {
                        "error_x": {
                          "color": "#2a3f5f"
                        },
                        "error_y": {
                          "color": "#2a3f5f"
                        },
                        "marker": {
                          "line": {
                            "color": "#E5ECF6",
                            "width": 0.5
                          },
                          "pattern": {
                            "fillmode": "overlay",
                            "size": 10,
                            "solidity": 0.2
                          }
                        },
                        "type": "bar"
                      }
                    ],
                    "barpolar": [
                      {
                        "marker": {
                          "line": {
                            "color": "#E5ECF6",
                            "width": 0.5
                          },
                          "pattern": {
                            "fillmode": "overlay",
                            "size": 10,
                            "solidity": 0.2
                          }
                        },
                        "type": "barpolar"
                      }
                    ],
                    "carpet": [
                      {
                        "aaxis": {
                          "endlinecolor": "#2a3f5f",
                          "gridcolor": "white",
                          "linecolor": "white",
                          "minorgridcolor": "white",
                          "startlinecolor": "#2a3f5f"
                        },
                        "baxis": {
                          "endlinecolor": "#2a3f5f",
                          "gridcolor": "white",
                          "linecolor": "white",
                          "minorgridcolor": "white",
                          "startlinecolor": "#2a3f5f"
                        },
                        "type": "carpet"
                      }
                    ],
                    "choropleth": [
                      {
                        "colorbar": {
                          "outlinewidth": 0,
                          "ticks": ""
                        },
                        "type": "choropleth"
                      }
                    ],
                    "contour": [
                      {
                        "colorbar": {
                          "outlinewidth": 0,
                          "ticks": ""
                        },
                        "colorscale": [
                          [
                            0,
                            "#0d0887"
                          ],
                          [
                            0.1111111111111111,
                            "#46039f"
                          ],
                          [
                            0.2222222222222222,
                            "#7201a8"
                          ],
                          [
                            0.3333333333333333,
                            "#9c179e"
                          ],
                          [
                            0.4444444444444444,
                            "#bd3786"
                          ],
                          [
                            0.5555555555555556,
                            "#d8576b"
                          ],
                          [
                            0.6666666666666666,
                            "#ed7953"
                          ],
                          [
                            0.7777777777777778,
                            "#fb9f3a"
                          ],
                          [
                            0.8888888888888888,
                            "#fdca26"
                          ],
                          [
                            1,
                            "#f0f921"
                          ]
                        ],
                        "type": "contour"
                      }
                    ],
                    "contourcarpet": [
                      {
                        "colorbar": {
                          "outlinewidth": 0,
                          "ticks": ""
                        },
                        "type": "contourcarpet"
                      }
                    ],
                    "heatmap": [
                      {
                        "colorbar": {
                          "outlinewidth": 0,
                          "ticks": ""
                        },
                        "colorscale": [
                          [
                            0,
                            "#0d0887"
                          ],
                          [
                            0.1111111111111111,
                            "#46039f"
                          ],
                          [
                            0.2222222222222222,
                            "#7201a8"
                          ],
                          [
                            0.3333333333333333,
                            "#9c179e"
                          ],
                          [
                            0.4444444444444444,
                            "#bd3786"
                          ],
                          [
                            0.5555555555555556,
                            "#d8576b"
                          ],
                          [
                            0.6666666666666666,
                            "#ed7953"
                          ],
                          [
                            0.7777777777777778,
                            "#fb9f3a"
                          ],
                          [
                            0.8888888888888888,
                            "#fdca26"
                          ],
                          [
                            1,
                            "#f0f921"
                          ]
                        ],
                        "type": "heatmap"
                      }
                    ],
                    "heatmapgl": [
                      {
                        "colorbar": {
                          "outlinewidth": 0,
                          "ticks": ""
                        },
                        "colorscale": [
                          [
                            0,
                            "#0d0887"
                          ],
                          [
                            0.1111111111111111,
                            "#46039f"
                          ],
                          [
                            0.2222222222222222,
                            "#7201a8"
                          ],
                          [
                            0.3333333333333333,
                            "#9c179e"
                          ],
                          [
                            0.4444444444444444,
                            "#bd3786"
                          ],
                          [
                            0.5555555555555556,
                            "#d8576b"
                          ],
                          [
                            0.6666666666666666,
                            "#ed7953"
                          ],
                          [
                            0.7777777777777778,
                            "#fb9f3a"
                          ],
                          [
                            0.8888888888888888,
                            "#fdca26"
                          ],
                          [
                            1,
                            "#f0f921"
                          ]
                        ],
                        "type": "heatmapgl"
                      }
                    ],
                    "histogram": [
                      {
                        "marker": {
                          "pattern": {
                            "fillmode": "overlay",
                            "size": 10,
                            "solidity": 0.2
                          }
                        },
                        "type": "histogram"
                      }
                    ],
                    "histogram2d": [
                      {
                        "colorbar": {
                          "outlinewidth": 0,
                          "ticks": ""
                        },
                        "colorscale": [
                          [
                            0,
                            "#0d0887"
                          ],
                          [
                            0.1111111111111111,
                            "#46039f"
                          ],
                          [
                            0.2222222222222222,
                            "#7201a8"
                          ],
                          [
                            0.3333333333333333,
                            "#9c179e"
                          ],
                          [
                            0.4444444444444444,
                            "#bd3786"
                          ],
                          [
                            0.5555555555555556,
                            "#d8576b"
                          ],
                          [
                            0.6666666666666666,
                            "#ed7953"
                          ],
                          [
                            0.7777777777777778,
                            "#fb9f3a"
                          ],
                          [
                            0.8888888888888888,
                            "#fdca26"
                          ],
                          [
                            1,
                            "#f0f921"
                          ]
                        ],
                        "type": "histogram2d"
                      }
                    ],
                    "histogram2dcontour": [
                      {
                        "colorbar": {
                          "outlinewidth": 0,
                          "ticks": ""
                        },
                        "colorscale": [
                          [
                            0,
                            "#0d0887"
                          ],
                          [
                            0.1111111111111111,
                            "#46039f"
                          ],
                          [
                            0.2222222222222222,
                            "#7201a8"
                          ],
                          [
                            0.3333333333333333,
                            "#9c179e"
                          ],
                          [
                            0.4444444444444444,
                            "#bd3786"
                          ],
                          [
                            0.5555555555555556,
                            "#d8576b"
                          ],
                          [
                            0.6666666666666666,
                            "#ed7953"
                          ],
                          [
                            0.7777777777777778,
                            "#fb9f3a"
                          ],
                          [
                            0.8888888888888888,
                            "#fdca26"
                          ],
                          [
                            1,
                            "#f0f921"
                          ]
                        ],
                        "type": "histogram2dcontour"
                      }
                    ],
                    "mesh3d": [
                      {
                        "colorbar": {
                          "outlinewidth": 0,
                          "ticks": ""
                        },
                        "type": "mesh3d"
                      }
                    ],
                    "parcoords": [
                      {
                        "line": {
                          "colorbar": {
                            "outlinewidth": 0,
                            "ticks": ""
                          }
                        },
                        "type": "parcoords"
                      }
                    ],
                    "pie": [
                      {
                        "automargin": true,
                        "type": "pie"
                      }
                    ],
                    "scatter": [
                      {
                        "fillpattern": {
                          "fillmode": "overlay",
                          "size": 10,
                          "solidity": 0.2
                        },
                        "type": "scatter"
                      }
                    ],
                    "scatter3d": [
                      {
                        "line": {
                          "colorbar": {
                            "outlinewidth": 0,
                            "ticks": ""
                          }
                        },
                        "marker": {
                          "colorbar": {
                            "outlinewidth": 0,
                            "ticks": ""
                          }
                        },
                        "type": "scatter3d"
                      }
                    ],
                    "scattercarpet": [
                      {
                        "marker": {
                          "colorbar": {
                            "outlinewidth": 0,
                            "ticks": ""
                          }
                        },
                        "type": "scattercarpet"
                      }
                    ],
                    "scattergeo": [
                      {
                        "marker": {
                          "colorbar": {
                            "outlinewidth": 0,
                            "ticks": ""
                          }
                        },
                        "type": "scattergeo"
                      }
                    ],
                    "scattergl": [
                      {
                        "marker": {
                          "colorbar": {
                            "outlinewidth": 0,
                            "ticks": ""
                          }
                        },
                        "type": "scattergl"
                      }
                    ],
                    "scattermapbox": [
                      {
                        "marker": {
                          "colorbar": {
                            "outlinewidth": 0,
                            "ticks": ""
                          }
                        },
                        "type": "scattermapbox"
                      }
                    ],
                    "scatterpolar": [
                      {
                        "marker": {
                          "colorbar": {
                            "outlinewidth": 0,
                            "ticks": ""
                          }
                        },
                        "type": "scatterpolar"
                      }
                    ],
                    "scatterpolargl": [
                      {
                        "marker": {
                          "colorbar": {
                            "outlinewidth": 0,
                            "ticks": ""
                          }
                        },
                        "type": "scatterpolargl"
                      }
                    ],
                    "scatterternary": [
                      {
                        "marker": {
                          "colorbar": {
                            "outlinewidth": 0,
                            "ticks": ""
                          }
                        },
                        "type": "scatterternary"
                      }
                    ],
                    "surface": [
                      {
                        "colorbar": {
                          "outlinewidth": 0,
                          "ticks": ""
                        },
                        "colorscale": [
                          [
                            0,
                            "#0d0887"
                          ],
                          [
                            0.1111111111111111,
                            "#46039f"
                          ],
                          [
                            0.2222222222222222,
                            "#7201a8"
                          ],
                          [
                            0.3333333333333333,
                            "#9c179e"
                          ],
                          [
                            0.4444444444444444,
                            "#bd3786"
                          ],
                          [
                            0.5555555555555556,
                            "#d8576b"
                          ],
                          [
                            0.6666666666666666,
                            "#ed7953"
                          ],
                          [
                            0.7777777777777778,
                            "#fb9f3a"
                          ],
                          [
                            0.8888888888888888,
                            "#fdca26"
                          ],
                          [
                            1,
                            "#f0f921"
                          ]
                        ],
                        "type": "surface"
                      }
                    ],
                    "table": [
                      {
                        "cells": {
                          "fill": {
                            "color": "#EBF0F8"
                          },
                          "line": {
                            "color": "white"
                          }
                        },
                        "header": {
                          "fill": {
                            "color": "#C8D4E3"
                          },
                          "line": {
                            "color": "white"
                          }
                        },
                        "type": "table"
                      }
                    ]
                  },
                  "layout": {
                    "annotationdefaults": {
                      "arrowcolor": "#2a3f5f",
                      "arrowhead": 0,
                      "arrowwidth": 1
                    },
                    "autotypenumbers": "strict",
                    "coloraxis": {
                      "colorbar": {
                        "outlinewidth": 0,
                        "ticks": ""
                      }
                    },
                    "colorscale": {
                      "diverging": [
                        [
                          0,
                          "#8e0152"
                        ],
                        [
                          0.1,
                          "#c51b7d"
                        ],
                        [
                          0.2,
                          "#de77ae"
                        ],
                        [
                          0.3,
                          "#f1b6da"
                        ],
                        [
                          0.4,
                          "#fde0ef"
                        ],
                        [
                          0.5,
                          "#f7f7f7"
                        ],
                        [
                          0.6,
                          "#e6f5d0"
                        ],
                        [
                          0.7,
                          "#b8e186"
                        ],
                        [
                          0.8,
                          "#7fbc41"
                        ],
                        [
                          0.9,
                          "#4d9221"
                        ],
                        [
                          1,
                          "#276419"
                        ]
                      ],
                      "sequential": [
                        [
                          0,
                          "#0d0887"
                        ],
                        [
                          0.1111111111111111,
                          "#46039f"
                        ],
                        [
                          0.2222222222222222,
                          "#7201a8"
                        ],
                        [
                          0.3333333333333333,
                          "#9c179e"
                        ],
                        [
                          0.4444444444444444,
                          "#bd3786"
                        ],
                        [
                          0.5555555555555556,
                          "#d8576b"
                        ],
                        [
                          0.6666666666666666,
                          "#ed7953"
                        ],
                        [
                          0.7777777777777778,
                          "#fb9f3a"
                        ],
                        [
                          0.8888888888888888,
                          "#fdca26"
                        ],
                        [
                          1,
                          "#f0f921"
                        ]
                      ],
                      "sequentialminus": [
                        [
                          0,
                          "#0d0887"
                        ],
                        [
                          0.1111111111111111,
                          "#46039f"
                        ],
                        [
                          0.2222222222222222,
                          "#7201a8"
                        ],
                        [
                          0.3333333333333333,
                          "#9c179e"
                        ],
                        [
                          0.4444444444444444,
                          "#bd3786"
                        ],
                        [
                          0.5555555555555556,
                          "#d8576b"
                        ],
                        [
                          0.6666666666666666,
                          "#ed7953"
                        ],
                        [
                          0.7777777777777778,
                          "#fb9f3a"
                        ],
                        [
                          0.8888888888888888,
                          "#fdca26"
                        ],
                        [
                          1,
                          "#f0f921"
                        ]
                      ]
                    },
                    "colorway": [
                      "#636efa",
                      "#EF553B",
                      "#00cc96",
                      "#ab63fa",
                      "#FFA15A",
                      "#19d3f3",
                      "#FF6692",
                      "#B6E880",
                      "#FF97FF",
                      "#FECB52"
                    ],
                    "font": {
                      "color": "#2a3f5f"
                    },
                    "geo": {
                      "bgcolor": "white",
                      "lakecolor": "white",
                      "landcolor": "#E5ECF6",
                      "showlakes": true,
                      "showland": true,
                      "subunitcolor": "white"
                    },
                    "hoverlabel": {
                      "align": "left"
                    },
                    "hovermode": "closest",
                    "mapbox": {
                      "style": "light"
                    },
                    "paper_bgcolor": "white",
                    "plot_bgcolor": "#E5ECF6",
                    "polar": {
                      "angularaxis": {
                        "gridcolor": "white",
                        "linecolor": "white",
                        "ticks": ""
                      },
                      "bgcolor": "#E5ECF6",
                      "radialaxis": {
                        "gridcolor": "white",
                        "linecolor": "white",
                        "ticks": ""
                      }
                    },
                    "scene": {
                      "xaxis": {
                        "backgroundcolor": "#E5ECF6",
                        "gridcolor": "white",
                        "gridwidth": 2,
                        "linecolor": "white",
                        "showbackground": true,
                        "ticks": "",
                        "zerolinecolor": "white"
                      },
                      "yaxis": {
                        "backgroundcolor": "#E5ECF6",
                        "gridcolor": "white",
                        "gridwidth": 2,
                        "linecolor": "white",
                        "showbackground": true,
                        "ticks": "",
                        "zerolinecolor": "white"
                      },
                      "zaxis": {
                        "backgroundcolor": "#E5ECF6",
                        "gridcolor": "white",
                        "gridwidth": 2,
                        "linecolor": "white",
                        "showbackground": true,
                        "ticks": "",
                        "zerolinecolor": "white"
                      }
                    },
                    "shapedefaults": {
                      "line": {
                        "color": "#2a3f5f"
                      }
                    },
                    "ternary": {
                      "aaxis": {
                        "gridcolor": "white",
                        "linecolor": "white",
                        "ticks": ""
                      },
                      "baxis": {
                        "gridcolor": "white",
                        "linecolor": "white",
                        "ticks": ""
                      },
                      "bgcolor": "#E5ECF6",
                      "caxis": {
                        "gridcolor": "white",
                        "linecolor": "white",
                        "ticks": ""
                      }
                    },
                    "title": {
                      "x": 0.05
                    },
                    "xaxis": {
                      "automargin": true,
                      "gridcolor": "white",
                      "linecolor": "white",
                      "ticks": "",
                      "title": {
                        "standoff": 15
                      },
                      "zerolinecolor": "white",
                      "zerolinewidth": 2
                    },
                    "yaxis": {
                      "automargin": true,
                      "gridcolor": "white",
                      "linecolor": "white",
                      "ticks": "",
                      "title": {
                        "standoff": 15
                      },
                      "zerolinecolor": "white",
                      "zerolinewidth": 2
                    }
                  }
                },
                "title": {
                  "text": "Hasil DBSCAN Clustering (epsilon=1.8000000000000003, min_samples=1)"
                }
              }
            }
          },
          "metadata": {},
          "output_type": "display_data"
        }
      ],
      "source": [
        "best_epsilon = max_value[0]\n",
        "best_min_samples = max_value[1]\n",
        "\n",
        "db=DBSCAN(eps=best_epsilon, min_samples=best_min_samples, metric='euclidean')\n",
        "db.fit(df_train)\n",
        "best_labels = db.labels_\n",
        "\n",
        "unique_labels = np.unique(best_labels)\n",
        "colors = ['blue', 'red', 'green', 'purple', 'orange', 'brown', 'pink', 'gray', 'yellow']\n",
        "cluster_colors = [colors[label % len(colors)] if label != -1 else 'black' for label in best_labels]\n",
        "\n",
        "# Membuat scatter plot 3D menggunakan iloc\n",
        "trace = go.Scatter3d(\n",
        "    x=df_train.iloc[:, 0],  # PCA 1\n",
        "    y=df_train.iloc[:, 1],  # PCA 2\n",
        "    z=df_train.iloc[:, 2],  # PCA 3\n",
        "    mode='markers',\n",
        "    marker=dict(size=8, color=cluster_colors, opacity=0.8),\n",
        "    text=[f'Cluster {label}' if label != -1 else 'Outlier' for label in best_labels],\n",
        "    name='Data Points'\n",
        ")\n",
        "\n",
        "# Membuat layout\n",
        "layout = go.Layout(\n",
        "    title=f'Hasil DBSCAN Clustering (epsilon={best_epsilon}, min_samples={best_min_samples})',\n",
        "    scene=dict(\n",
        "        xaxis_title='HP',\n",
        "        yaxis_title='ATK',\n",
        "        zaxis_title='DEF'\n",
        "    ),\n",
        "    showlegend=False\n",
        ")\n",
        "\n",
        "# Menggabungkan semua trace\n",
        "fig = go.Figure(data=[trace], layout=layout)\n",
        "\n",
        "# Menampilkan plot interaktif\n",
        "fig.show()"
      ]
    },
    {
      "cell_type": "markdown",
      "metadata": {
        "id": "Taeh9Utm6LNV"
      },
      "source": [
        "### Belajar Analisis Clustering\n",
        "\n",
        "![hydro](./assets/hydro.png)"
      ]
    },
    {
      "cell_type": "code",
      "execution_count": 22,
      "metadata": {
        "colab": {
          "base_uri": "https://localhost:8080/",
          "height": 457
        },
        "id": "15MSnMvQ28rV",
        "outputId": "07b89a6e-87c9-4dd8-8101-3a9e63af0445"
      },
      "outputs": [
        {
          "data": {
            "text/html": [
              "<div>\n",
              "<style scoped>\n",
              "    .dataframe tbody tr th:only-of-type {\n",
              "        vertical-align: middle;\n",
              "    }\n",
              "\n",
              "    .dataframe tbody tr th {\n",
              "        vertical-align: top;\n",
              "    }\n",
              "\n",
              "    .dataframe thead th {\n",
              "        text-align: right;\n",
              "    }\n",
              "</style>\n",
              "<table border=\"1\" class=\"dataframe\">\n",
              "  <thead>\n",
              "    <tr style=\"text-align: right;\">\n",
              "      <th></th>\n",
              "      <th>character_name</th>\n",
              "      <th>rarity</th>\n",
              "      <th>region</th>\n",
              "      <th>vision</th>\n",
              "      <th>weapon_type</th>\n",
              "      <th>hp_90_90</th>\n",
              "      <th>atk_90_90</th>\n",
              "      <th>def_90_90</th>\n",
              "    </tr>\n",
              "  </thead>\n",
              "  <tbody>\n",
              "    <tr>\n",
              "      <th>6</th>\n",
              "      <td>Barbara</td>\n",
              "      <td>4</td>\n",
              "      <td>Mondstadt</td>\n",
              "      <td>Hydro</td>\n",
              "      <td>Catalyst</td>\n",
              "      <td>9787</td>\n",
              "      <td>159</td>\n",
              "      <td>669</td>\n",
              "    </tr>\n",
              "    <tr>\n",
              "      <th>9</th>\n",
              "      <td>Candace</td>\n",
              "      <td>4</td>\n",
              "      <td>Sumeru</td>\n",
              "      <td>Hydro</td>\n",
              "      <td>Polearm</td>\n",
              "      <td>10874</td>\n",
              "      <td>212</td>\n",
              "      <td>682</td>\n",
              "    </tr>\n",
              "    <tr>\n",
              "      <th>22</th>\n",
              "      <td>Furina</td>\n",
              "      <td>5</td>\n",
              "      <td>Fontaine</td>\n",
              "      <td>Hydro</td>\n",
              "      <td>Sword</td>\n",
              "      <td>15307</td>\n",
              "      <td>243</td>\n",
              "      <td>695</td>\n",
              "    </tr>\n",
              "    <tr>\n",
              "      <th>30</th>\n",
              "      <td>Kamisato Ayato</td>\n",
              "      <td>5</td>\n",
              "      <td>Inazuma</td>\n",
              "      <td>Hydro</td>\n",
              "      <td>Sword</td>\n",
              "      <td>13715</td>\n",
              "      <td>299</td>\n",
              "      <td>769</td>\n",
              "    </tr>\n",
              "    <tr>\n",
              "      <th>42</th>\n",
              "      <td>Mona</td>\n",
              "      <td>5</td>\n",
              "      <td>Mondstadt</td>\n",
              "      <td>Hydro</td>\n",
              "      <td>Catalyst</td>\n",
              "      <td>10409</td>\n",
              "      <td>287</td>\n",
              "      <td>653</td>\n",
              "    </tr>\n",
              "    <tr>\n",
              "      <th>44</th>\n",
              "      <td>Nilou</td>\n",
              "      <td>5</td>\n",
              "      <td>Sumeru</td>\n",
              "      <td>Hydro</td>\n",
              "      <td>Sword</td>\n",
              "      <td>15184</td>\n",
              "      <td>229</td>\n",
              "      <td>728</td>\n",
              "    </tr>\n",
              "    <tr>\n",
              "      <th>47</th>\n",
              "      <td>Neuvillette</td>\n",
              "      <td>5</td>\n",
              "      <td>Fontaine</td>\n",
              "      <td>Hydro</td>\n",
              "      <td>Catalyst</td>\n",
              "      <td>14695</td>\n",
              "      <td>208</td>\n",
              "      <td>576</td>\n",
              "    </tr>\n",
              "    <tr>\n",
              "      <th>52</th>\n",
              "      <td>Sangonomiya Kokomi</td>\n",
              "      <td>5</td>\n",
              "      <td>Inazuma</td>\n",
              "      <td>Hydro</td>\n",
              "      <td>Catalyst</td>\n",
              "      <td>13471</td>\n",
              "      <td>234</td>\n",
              "      <td>657</td>\n",
              "    </tr>\n",
              "    <tr>\n",
              "      <th>57</th>\n",
              "      <td>Tartaglia</td>\n",
              "      <td>5</td>\n",
              "      <td>Snezhnaya</td>\n",
              "      <td>Hydro</td>\n",
              "      <td>Bow</td>\n",
              "      <td>13103</td>\n",
              "      <td>301</td>\n",
              "      <td>815</td>\n",
              "    </tr>\n",
              "    <tr>\n",
              "      <th>68</th>\n",
              "      <td>Traveler (Aether, Hydro)</td>\n",
              "      <td>5</td>\n",
              "      <td>Unknown</td>\n",
              "      <td>Hydro</td>\n",
              "      <td>Sword</td>\n",
              "      <td>10875</td>\n",
              "      <td>212</td>\n",
              "      <td>683</td>\n",
              "    </tr>\n",
              "    <tr>\n",
              "      <th>69</th>\n",
              "      <td>Traveler (Lumine, Hydro)</td>\n",
              "      <td>5</td>\n",
              "      <td>Unknown</td>\n",
              "      <td>Hydro</td>\n",
              "      <td>Sword</td>\n",
              "      <td>10875</td>\n",
              "      <td>212</td>\n",
              "      <td>683</td>\n",
              "    </tr>\n",
              "    <tr>\n",
              "      <th>75</th>\n",
              "      <td>Xingqiu</td>\n",
              "      <td>4</td>\n",
              "      <td>Liyue</td>\n",
              "      <td>Hydro</td>\n",
              "      <td>Sword</td>\n",
              "      <td>10223</td>\n",
              "      <td>202</td>\n",
              "      <td>758</td>\n",
              "    </tr>\n",
              "    <tr>\n",
              "      <th>80</th>\n",
              "      <td>Yelan</td>\n",
              "      <td>5</td>\n",
              "      <td>Liyue</td>\n",
              "      <td>Hydro</td>\n",
              "      <td>Bow</td>\n",
              "      <td>14450</td>\n",
              "      <td>244</td>\n",
              "      <td>548</td>\n",
              "    </tr>\n",
              "  </tbody>\n",
              "</table>\n",
              "</div>"
            ],
            "text/plain": [
              "                  character_name  rarity      region    vision   weapon_type  \\\n",
              "6   Barbara                            4   Mondstadt   Hydro     Catalyst      \n",
              "9   Candace                            4   Sumeru      Hydro     Polearm       \n",
              "22  Furina                             5   Fontaine    Hydro     Sword         \n",
              "30  Kamisato Ayato                     5   Inazuma     Hydro     Sword         \n",
              "42  Mona                               5   Mondstadt   Hydro     Catalyst      \n",
              "44  Nilou                              5   Sumeru      Hydro     Sword         \n",
              "47  Neuvillette                        5   Fontaine    Hydro     Catalyst      \n",
              "52  Sangonomiya Kokomi                 5   Inazuma     Hydro     Catalyst      \n",
              "57  Tartaglia                          5   Snezhnaya   Hydro     Bow           \n",
              "68    Traveler (Aether, Hydro)         5   Unknown     Hydro     Sword         \n",
              "69    Traveler (Lumine, Hydro)         5   Unknown     Hydro     Sword         \n",
              "75  Xingqiu                            4   Liyue       Hydro     Sword         \n",
              "80  Yelan                              5   Liyue       Hydro     Bow           \n",
              "\n",
              "    hp_90_90  atk_90_90  def_90_90  \n",
              "6       9787        159        669  \n",
              "9      10874        212        682  \n",
              "22     15307        243        695  \n",
              "30     13715        299        769  \n",
              "42     10409        287        653  \n",
              "44     15184        229        728  \n",
              "47     14695        208        576  \n",
              "52     13471        234        657  \n",
              "57     13103        301        815  \n",
              "68     10875        212        683  \n",
              "69     10875        212        683  \n",
              "75     10223        202        758  \n",
              "80     14450        244        548  "
            ]
          },
          "execution_count": 22,
          "metadata": {},
          "output_type": "execute_result"
        }
      ],
      "source": [
        "# Misalkan kita ingin mengetahui sebaran pengguna vision Hydro\n",
        "\n",
        "df_hydro = df[df['vision'] == ' Hydro  '] #datanya agak tricky\n",
        "df_hydro"
      ]
    },
    {
      "cell_type": "code",
      "execution_count": 23,
      "metadata": {
        "colab": {
          "base_uri": "https://localhost:8080/",
          "height": 457
        },
        "id": "KcINMwD8BYmx",
        "outputId": "e98f8a22-9110-43b8-935e-943fb35468c7"
      },
      "outputs": [
        {
          "data": {
            "text/html": [
              "<div>\n",
              "<style scoped>\n",
              "    .dataframe tbody tr th:only-of-type {\n",
              "        vertical-align: middle;\n",
              "    }\n",
              "\n",
              "    .dataframe tbody tr th {\n",
              "        vertical-align: top;\n",
              "    }\n",
              "\n",
              "    .dataframe thead th {\n",
              "        text-align: right;\n",
              "    }\n",
              "</style>\n",
              "<table border=\"1\" class=\"dataframe\">\n",
              "  <thead>\n",
              "    <tr style=\"text-align: right;\">\n",
              "      <th></th>\n",
              "      <th>hp_90_90</th>\n",
              "      <th>atk_90_90</th>\n",
              "      <th>def_90_90</th>\n",
              "    </tr>\n",
              "  </thead>\n",
              "  <tbody>\n",
              "    <tr>\n",
              "      <th>6</th>\n",
              "      <td>9787</td>\n",
              "      <td>159</td>\n",
              "      <td>669</td>\n",
              "    </tr>\n",
              "    <tr>\n",
              "      <th>9</th>\n",
              "      <td>10874</td>\n",
              "      <td>212</td>\n",
              "      <td>682</td>\n",
              "    </tr>\n",
              "    <tr>\n",
              "      <th>22</th>\n",
              "      <td>15307</td>\n",
              "      <td>243</td>\n",
              "      <td>695</td>\n",
              "    </tr>\n",
              "    <tr>\n",
              "      <th>30</th>\n",
              "      <td>13715</td>\n",
              "      <td>299</td>\n",
              "      <td>769</td>\n",
              "    </tr>\n",
              "    <tr>\n",
              "      <th>42</th>\n",
              "      <td>10409</td>\n",
              "      <td>287</td>\n",
              "      <td>653</td>\n",
              "    </tr>\n",
              "    <tr>\n",
              "      <th>44</th>\n",
              "      <td>15184</td>\n",
              "      <td>229</td>\n",
              "      <td>728</td>\n",
              "    </tr>\n",
              "    <tr>\n",
              "      <th>47</th>\n",
              "      <td>14695</td>\n",
              "      <td>208</td>\n",
              "      <td>576</td>\n",
              "    </tr>\n",
              "    <tr>\n",
              "      <th>52</th>\n",
              "      <td>13471</td>\n",
              "      <td>234</td>\n",
              "      <td>657</td>\n",
              "    </tr>\n",
              "    <tr>\n",
              "      <th>57</th>\n",
              "      <td>13103</td>\n",
              "      <td>301</td>\n",
              "      <td>815</td>\n",
              "    </tr>\n",
              "    <tr>\n",
              "      <th>68</th>\n",
              "      <td>10875</td>\n",
              "      <td>212</td>\n",
              "      <td>683</td>\n",
              "    </tr>\n",
              "    <tr>\n",
              "      <th>69</th>\n",
              "      <td>10875</td>\n",
              "      <td>212</td>\n",
              "      <td>683</td>\n",
              "    </tr>\n",
              "    <tr>\n",
              "      <th>75</th>\n",
              "      <td>10223</td>\n",
              "      <td>202</td>\n",
              "      <td>758</td>\n",
              "    </tr>\n",
              "    <tr>\n",
              "      <th>80</th>\n",
              "      <td>14450</td>\n",
              "      <td>244</td>\n",
              "      <td>548</td>\n",
              "    </tr>\n",
              "  </tbody>\n",
              "</table>\n",
              "</div>"
            ],
            "text/plain": [
              "    hp_90_90  atk_90_90  def_90_90\n",
              "6       9787        159        669\n",
              "9      10874        212        682\n",
              "22     15307        243        695\n",
              "30     13715        299        769\n",
              "42     10409        287        653\n",
              "44     15184        229        728\n",
              "47     14695        208        576\n",
              "52     13471        234        657\n",
              "57     13103        301        815\n",
              "68     10875        212        683\n",
              "69     10875        212        683\n",
              "75     10223        202        758\n",
              "80     14450        244        548"
            ]
          },
          "execution_count": 23,
          "metadata": {},
          "output_type": "execute_result"
        }
      ],
      "source": [
        "df_hydro_train = df_train.loc[df_hydro.index]\n",
        "df_hydro_train"
      ]
    },
    {
      "cell_type": "code",
      "execution_count": 24,
      "metadata": {
        "colab": {
          "base_uri": "https://localhost:8080/",
          "height": 542
        },
        "id": "ePtbsEVQ-UQ_",
        "outputId": "c09cb60f-fae5-4417-9267-7bc898e3ebba"
      },
      "outputs": [
        {
          "data": {
            "application/vnd.plotly.v1+json": {
              "config": {
                "plotlyServerURL": "https://plot.ly"
              },
              "data": [
                {
                  "hoverinfo": "text",
                  "marker": {
                    "color": "red",
                    "opacity": 0.8,
                    "size": 8
                  },
                  "mode": "markers",
                  "name": "Cluster 1",
                  "text": [
                    "Kamisato Ayato              ",
                    "Sangonomiya Kokomi          ",
                    "Tartaglia                   "
                  ],
                  "type": "scatter3d",
                  "x": [
                    13715,
                    13471,
                    13103
                  ],
                  "y": [
                    299,
                    234,
                    301
                  ],
                  "z": [
                    769,
                    657,
                    815
                  ]
                },
                {
                  "hoverinfo": "text",
                  "marker": {
                    "color": "blue",
                    "opacity": 0.8,
                    "size": 8
                  },
                  "mode": "markers",
                  "name": "Cluster 2",
                  "text": [
                    "Barbara                     ",
                    "Candace                     ",
                    "Mona                        ",
                    "Traveler (Aether, Hydro)  ",
                    "Traveler (Lumine, Hydro)  ",
                    "Xingqiu                     "
                  ],
                  "type": "scatter3d",
                  "x": [
                    9787,
                    10874,
                    10409,
                    10875,
                    10875,
                    10223
                  ],
                  "y": [
                    159,
                    212,
                    287,
                    212,
                    212,
                    202
                  ],
                  "z": [
                    669,
                    682,
                    653,
                    683,
                    683,
                    758
                  ]
                },
                {
                  "hoverinfo": "text",
                  "marker": {
                    "color": "green",
                    "opacity": 0.8,
                    "size": 8
                  },
                  "mode": "markers",
                  "name": "Cluster 3",
                  "text": [
                    "Furina                      ",
                    "Nilou                       ",
                    "Neuvillette                 ",
                    "Yelan                       "
                  ],
                  "type": "scatter3d",
                  "x": [
                    15307,
                    15184,
                    14695,
                    14450
                  ],
                  "y": [
                    243,
                    229,
                    208,
                    244
                  ],
                  "z": [
                    695,
                    728,
                    576,
                    548
                  ]
                },
                {
                  "marker": {
                    "color": "black",
                    "opacity": 1,
                    "size": 12,
                    "symbol": "diamond"
                  },
                  "mode": "markers",
                  "name": "Centroids",
                  "type": "scatter3d",
                  "x": [
                    12697.515151515152,
                    10365.534883720931,
                    15031.5
                  ],
                  "y": [
                    264.24242424242425,
                    232.69767441860463,
                    223.125
                  ],
                  "z": [
                    760.9090909090909,
                    650.9302325581396,
                    694.625
                  ]
                }
              ],
              "layout": {
                "scene": {
                  "xaxis": {
                    "title": {
                      "text": "HP"
                    }
                  },
                  "yaxis": {
                    "title": {
                      "text": "ATK"
                    }
                  },
                  "zaxis": {
                    "title": {
                      "text": "DEF"
                    }
                  }
                },
                "showlegend": true,
                "template": {
                  "data": {
                    "bar": [
                      {
                        "error_x": {
                          "color": "#2a3f5f"
                        },
                        "error_y": {
                          "color": "#2a3f5f"
                        },
                        "marker": {
                          "line": {
                            "color": "#E5ECF6",
                            "width": 0.5
                          },
                          "pattern": {
                            "fillmode": "overlay",
                            "size": 10,
                            "solidity": 0.2
                          }
                        },
                        "type": "bar"
                      }
                    ],
                    "barpolar": [
                      {
                        "marker": {
                          "line": {
                            "color": "#E5ECF6",
                            "width": 0.5
                          },
                          "pattern": {
                            "fillmode": "overlay",
                            "size": 10,
                            "solidity": 0.2
                          }
                        },
                        "type": "barpolar"
                      }
                    ],
                    "carpet": [
                      {
                        "aaxis": {
                          "endlinecolor": "#2a3f5f",
                          "gridcolor": "white",
                          "linecolor": "white",
                          "minorgridcolor": "white",
                          "startlinecolor": "#2a3f5f"
                        },
                        "baxis": {
                          "endlinecolor": "#2a3f5f",
                          "gridcolor": "white",
                          "linecolor": "white",
                          "minorgridcolor": "white",
                          "startlinecolor": "#2a3f5f"
                        },
                        "type": "carpet"
                      }
                    ],
                    "choropleth": [
                      {
                        "colorbar": {
                          "outlinewidth": 0,
                          "ticks": ""
                        },
                        "type": "choropleth"
                      }
                    ],
                    "contour": [
                      {
                        "colorbar": {
                          "outlinewidth": 0,
                          "ticks": ""
                        },
                        "colorscale": [
                          [
                            0,
                            "#0d0887"
                          ],
                          [
                            0.1111111111111111,
                            "#46039f"
                          ],
                          [
                            0.2222222222222222,
                            "#7201a8"
                          ],
                          [
                            0.3333333333333333,
                            "#9c179e"
                          ],
                          [
                            0.4444444444444444,
                            "#bd3786"
                          ],
                          [
                            0.5555555555555556,
                            "#d8576b"
                          ],
                          [
                            0.6666666666666666,
                            "#ed7953"
                          ],
                          [
                            0.7777777777777778,
                            "#fb9f3a"
                          ],
                          [
                            0.8888888888888888,
                            "#fdca26"
                          ],
                          [
                            1,
                            "#f0f921"
                          ]
                        ],
                        "type": "contour"
                      }
                    ],
                    "contourcarpet": [
                      {
                        "colorbar": {
                          "outlinewidth": 0,
                          "ticks": ""
                        },
                        "type": "contourcarpet"
                      }
                    ],
                    "heatmap": [
                      {
                        "colorbar": {
                          "outlinewidth": 0,
                          "ticks": ""
                        },
                        "colorscale": [
                          [
                            0,
                            "#0d0887"
                          ],
                          [
                            0.1111111111111111,
                            "#46039f"
                          ],
                          [
                            0.2222222222222222,
                            "#7201a8"
                          ],
                          [
                            0.3333333333333333,
                            "#9c179e"
                          ],
                          [
                            0.4444444444444444,
                            "#bd3786"
                          ],
                          [
                            0.5555555555555556,
                            "#d8576b"
                          ],
                          [
                            0.6666666666666666,
                            "#ed7953"
                          ],
                          [
                            0.7777777777777778,
                            "#fb9f3a"
                          ],
                          [
                            0.8888888888888888,
                            "#fdca26"
                          ],
                          [
                            1,
                            "#f0f921"
                          ]
                        ],
                        "type": "heatmap"
                      }
                    ],
                    "heatmapgl": [
                      {
                        "colorbar": {
                          "outlinewidth": 0,
                          "ticks": ""
                        },
                        "colorscale": [
                          [
                            0,
                            "#0d0887"
                          ],
                          [
                            0.1111111111111111,
                            "#46039f"
                          ],
                          [
                            0.2222222222222222,
                            "#7201a8"
                          ],
                          [
                            0.3333333333333333,
                            "#9c179e"
                          ],
                          [
                            0.4444444444444444,
                            "#bd3786"
                          ],
                          [
                            0.5555555555555556,
                            "#d8576b"
                          ],
                          [
                            0.6666666666666666,
                            "#ed7953"
                          ],
                          [
                            0.7777777777777778,
                            "#fb9f3a"
                          ],
                          [
                            0.8888888888888888,
                            "#fdca26"
                          ],
                          [
                            1,
                            "#f0f921"
                          ]
                        ],
                        "type": "heatmapgl"
                      }
                    ],
                    "histogram": [
                      {
                        "marker": {
                          "pattern": {
                            "fillmode": "overlay",
                            "size": 10,
                            "solidity": 0.2
                          }
                        },
                        "type": "histogram"
                      }
                    ],
                    "histogram2d": [
                      {
                        "colorbar": {
                          "outlinewidth": 0,
                          "ticks": ""
                        },
                        "colorscale": [
                          [
                            0,
                            "#0d0887"
                          ],
                          [
                            0.1111111111111111,
                            "#46039f"
                          ],
                          [
                            0.2222222222222222,
                            "#7201a8"
                          ],
                          [
                            0.3333333333333333,
                            "#9c179e"
                          ],
                          [
                            0.4444444444444444,
                            "#bd3786"
                          ],
                          [
                            0.5555555555555556,
                            "#d8576b"
                          ],
                          [
                            0.6666666666666666,
                            "#ed7953"
                          ],
                          [
                            0.7777777777777778,
                            "#fb9f3a"
                          ],
                          [
                            0.8888888888888888,
                            "#fdca26"
                          ],
                          [
                            1,
                            "#f0f921"
                          ]
                        ],
                        "type": "histogram2d"
                      }
                    ],
                    "histogram2dcontour": [
                      {
                        "colorbar": {
                          "outlinewidth": 0,
                          "ticks": ""
                        },
                        "colorscale": [
                          [
                            0,
                            "#0d0887"
                          ],
                          [
                            0.1111111111111111,
                            "#46039f"
                          ],
                          [
                            0.2222222222222222,
                            "#7201a8"
                          ],
                          [
                            0.3333333333333333,
                            "#9c179e"
                          ],
                          [
                            0.4444444444444444,
                            "#bd3786"
                          ],
                          [
                            0.5555555555555556,
                            "#d8576b"
                          ],
                          [
                            0.6666666666666666,
                            "#ed7953"
                          ],
                          [
                            0.7777777777777778,
                            "#fb9f3a"
                          ],
                          [
                            0.8888888888888888,
                            "#fdca26"
                          ],
                          [
                            1,
                            "#f0f921"
                          ]
                        ],
                        "type": "histogram2dcontour"
                      }
                    ],
                    "mesh3d": [
                      {
                        "colorbar": {
                          "outlinewidth": 0,
                          "ticks": ""
                        },
                        "type": "mesh3d"
                      }
                    ],
                    "parcoords": [
                      {
                        "line": {
                          "colorbar": {
                            "outlinewidth": 0,
                            "ticks": ""
                          }
                        },
                        "type": "parcoords"
                      }
                    ],
                    "pie": [
                      {
                        "automargin": true,
                        "type": "pie"
                      }
                    ],
                    "scatter": [
                      {
                        "fillpattern": {
                          "fillmode": "overlay",
                          "size": 10,
                          "solidity": 0.2
                        },
                        "type": "scatter"
                      }
                    ],
                    "scatter3d": [
                      {
                        "line": {
                          "colorbar": {
                            "outlinewidth": 0,
                            "ticks": ""
                          }
                        },
                        "marker": {
                          "colorbar": {
                            "outlinewidth": 0,
                            "ticks": ""
                          }
                        },
                        "type": "scatter3d"
                      }
                    ],
                    "scattercarpet": [
                      {
                        "marker": {
                          "colorbar": {
                            "outlinewidth": 0,
                            "ticks": ""
                          }
                        },
                        "type": "scattercarpet"
                      }
                    ],
                    "scattergeo": [
                      {
                        "marker": {
                          "colorbar": {
                            "outlinewidth": 0,
                            "ticks": ""
                          }
                        },
                        "type": "scattergeo"
                      }
                    ],
                    "scattergl": [
                      {
                        "marker": {
                          "colorbar": {
                            "outlinewidth": 0,
                            "ticks": ""
                          }
                        },
                        "type": "scattergl"
                      }
                    ],
                    "scattermapbox": [
                      {
                        "marker": {
                          "colorbar": {
                            "outlinewidth": 0,
                            "ticks": ""
                          }
                        },
                        "type": "scattermapbox"
                      }
                    ],
                    "scatterpolar": [
                      {
                        "marker": {
                          "colorbar": {
                            "outlinewidth": 0,
                            "ticks": ""
                          }
                        },
                        "type": "scatterpolar"
                      }
                    ],
                    "scatterpolargl": [
                      {
                        "marker": {
                          "colorbar": {
                            "outlinewidth": 0,
                            "ticks": ""
                          }
                        },
                        "type": "scatterpolargl"
                      }
                    ],
                    "scatterternary": [
                      {
                        "marker": {
                          "colorbar": {
                            "outlinewidth": 0,
                            "ticks": ""
                          }
                        },
                        "type": "scatterternary"
                      }
                    ],
                    "surface": [
                      {
                        "colorbar": {
                          "outlinewidth": 0,
                          "ticks": ""
                        },
                        "colorscale": [
                          [
                            0,
                            "#0d0887"
                          ],
                          [
                            0.1111111111111111,
                            "#46039f"
                          ],
                          [
                            0.2222222222222222,
                            "#7201a8"
                          ],
                          [
                            0.3333333333333333,
                            "#9c179e"
                          ],
                          [
                            0.4444444444444444,
                            "#bd3786"
                          ],
                          [
                            0.5555555555555556,
                            "#d8576b"
                          ],
                          [
                            0.6666666666666666,
                            "#ed7953"
                          ],
                          [
                            0.7777777777777778,
                            "#fb9f3a"
                          ],
                          [
                            0.8888888888888888,
                            "#fdca26"
                          ],
                          [
                            1,
                            "#f0f921"
                          ]
                        ],
                        "type": "surface"
                      }
                    ],
                    "table": [
                      {
                        "cells": {
                          "fill": {
                            "color": "#EBF0F8"
                          },
                          "line": {
                            "color": "white"
                          }
                        },
                        "header": {
                          "fill": {
                            "color": "#C8D4E3"
                          },
                          "line": {
                            "color": "white"
                          }
                        },
                        "type": "table"
                      }
                    ]
                  },
                  "layout": {
                    "annotationdefaults": {
                      "arrowcolor": "#2a3f5f",
                      "arrowhead": 0,
                      "arrowwidth": 1
                    },
                    "autotypenumbers": "strict",
                    "coloraxis": {
                      "colorbar": {
                        "outlinewidth": 0,
                        "ticks": ""
                      }
                    },
                    "colorscale": {
                      "diverging": [
                        [
                          0,
                          "#8e0152"
                        ],
                        [
                          0.1,
                          "#c51b7d"
                        ],
                        [
                          0.2,
                          "#de77ae"
                        ],
                        [
                          0.3,
                          "#f1b6da"
                        ],
                        [
                          0.4,
                          "#fde0ef"
                        ],
                        [
                          0.5,
                          "#f7f7f7"
                        ],
                        [
                          0.6,
                          "#e6f5d0"
                        ],
                        [
                          0.7,
                          "#b8e186"
                        ],
                        [
                          0.8,
                          "#7fbc41"
                        ],
                        [
                          0.9,
                          "#4d9221"
                        ],
                        [
                          1,
                          "#276419"
                        ]
                      ],
                      "sequential": [
                        [
                          0,
                          "#0d0887"
                        ],
                        [
                          0.1111111111111111,
                          "#46039f"
                        ],
                        [
                          0.2222222222222222,
                          "#7201a8"
                        ],
                        [
                          0.3333333333333333,
                          "#9c179e"
                        ],
                        [
                          0.4444444444444444,
                          "#bd3786"
                        ],
                        [
                          0.5555555555555556,
                          "#d8576b"
                        ],
                        [
                          0.6666666666666666,
                          "#ed7953"
                        ],
                        [
                          0.7777777777777778,
                          "#fb9f3a"
                        ],
                        [
                          0.8888888888888888,
                          "#fdca26"
                        ],
                        [
                          1,
                          "#f0f921"
                        ]
                      ],
                      "sequentialminus": [
                        [
                          0,
                          "#0d0887"
                        ],
                        [
                          0.1111111111111111,
                          "#46039f"
                        ],
                        [
                          0.2222222222222222,
                          "#7201a8"
                        ],
                        [
                          0.3333333333333333,
                          "#9c179e"
                        ],
                        [
                          0.4444444444444444,
                          "#bd3786"
                        ],
                        [
                          0.5555555555555556,
                          "#d8576b"
                        ],
                        [
                          0.6666666666666666,
                          "#ed7953"
                        ],
                        [
                          0.7777777777777778,
                          "#fb9f3a"
                        ],
                        [
                          0.8888888888888888,
                          "#fdca26"
                        ],
                        [
                          1,
                          "#f0f921"
                        ]
                      ]
                    },
                    "colorway": [
                      "#636efa",
                      "#EF553B",
                      "#00cc96",
                      "#ab63fa",
                      "#FFA15A",
                      "#19d3f3",
                      "#FF6692",
                      "#B6E880",
                      "#FF97FF",
                      "#FECB52"
                    ],
                    "font": {
                      "color": "#2a3f5f"
                    },
                    "geo": {
                      "bgcolor": "white",
                      "lakecolor": "white",
                      "landcolor": "#E5ECF6",
                      "showlakes": true,
                      "showland": true,
                      "subunitcolor": "white"
                    },
                    "hoverlabel": {
                      "align": "left"
                    },
                    "hovermode": "closest",
                    "mapbox": {
                      "style": "light"
                    },
                    "paper_bgcolor": "white",
                    "plot_bgcolor": "#E5ECF6",
                    "polar": {
                      "angularaxis": {
                        "gridcolor": "white",
                        "linecolor": "white",
                        "ticks": ""
                      },
                      "bgcolor": "#E5ECF6",
                      "radialaxis": {
                        "gridcolor": "white",
                        "linecolor": "white",
                        "ticks": ""
                      }
                    },
                    "scene": {
                      "xaxis": {
                        "backgroundcolor": "#E5ECF6",
                        "gridcolor": "white",
                        "gridwidth": 2,
                        "linecolor": "white",
                        "showbackground": true,
                        "ticks": "",
                        "zerolinecolor": "white"
                      },
                      "yaxis": {
                        "backgroundcolor": "#E5ECF6",
                        "gridcolor": "white",
                        "gridwidth": 2,
                        "linecolor": "white",
                        "showbackground": true,
                        "ticks": "",
                        "zerolinecolor": "white"
                      },
                      "zaxis": {
                        "backgroundcolor": "#E5ECF6",
                        "gridcolor": "white",
                        "gridwidth": 2,
                        "linecolor": "white",
                        "showbackground": true,
                        "ticks": "",
                        "zerolinecolor": "white"
                      }
                    },
                    "shapedefaults": {
                      "line": {
                        "color": "#2a3f5f"
                      }
                    },
                    "ternary": {
                      "aaxis": {
                        "gridcolor": "white",
                        "linecolor": "white",
                        "ticks": ""
                      },
                      "baxis": {
                        "gridcolor": "white",
                        "linecolor": "white",
                        "ticks": ""
                      },
                      "bgcolor": "#E5ECF6",
                      "caxis": {
                        "gridcolor": "white",
                        "linecolor": "white",
                        "ticks": ""
                      }
                    },
                    "title": {
                      "x": 0.05
                    },
                    "xaxis": {
                      "automargin": true,
                      "gridcolor": "white",
                      "linecolor": "white",
                      "ticks": "",
                      "title": {
                        "standoff": 15
                      },
                      "zerolinecolor": "white",
                      "zerolinewidth": 2
                    },
                    "yaxis": {
                      "automargin": true,
                      "gridcolor": "white",
                      "linecolor": "white",
                      "ticks": "",
                      "title": {
                        "standoff": 15
                      },
                      "zerolinecolor": "white",
                      "zerolinewidth": 2
                    }
                  }
                },
                "title": {
                  "text": "Hasil KMeans Clustering"
                }
              }
            }
          },
          "metadata": {},
          "output_type": "display_data"
        }
      ],
      "source": [
        "nama_chara = df_hydro['character_name']\n",
        "\n",
        "trace1 = go.Scatter3d(\n",
        "    x=df_hydro_train[y_kmeans[df_hydro_train.index] == 0].iloc[:, 0],\n",
        "    y=df_hydro_train[y_kmeans[df_hydro_train.index] == 0].iloc[:, 1],\n",
        "    z=df_hydro_train[y_kmeans[df_hydro_train.index] == 0].iloc[:, 2],\n",
        "    mode='markers',\n",
        "    marker=dict(size=8, color='red', opacity=0.8),\n",
        "    text=nama_chara[y_kmeans[df_hydro_train.index] == 0],\n",
        "    hoverinfo='text',\n",
        "    name='Cluster 1'\n",
        ")\n",
        "\n",
        "trace2 = go.Scatter3d(\n",
        "    x=df_hydro_train[y_kmeans[df_hydro_train.index] == 1].iloc[:, 0],\n",
        "    y=df_hydro_train[y_kmeans[df_hydro_train.index] == 1].iloc[:, 1],\n",
        "    z=df_hydro_train[y_kmeans[df_hydro_train.index] == 1].iloc[:, 2],\n",
        "    mode='markers',\n",
        "    marker=dict(size=8, color='blue', opacity=0.8),\n",
        "    text=nama_chara[y_kmeans[df_hydro_train.index] == 1],\n",
        "    hoverinfo='text',\n",
        "    name='Cluster 2'\n",
        ")\n",
        "\n",
        "trace3 = go.Scatter3d(\n",
        "    x=df_hydro_train[y_kmeans[df_hydro_train.index] == 2].iloc[:, 0],\n",
        "    y=df_hydro_train[y_kmeans[df_hydro_train.index] == 2].iloc[:, 1],\n",
        "    z=df_hydro_train[y_kmeans[df_hydro_train.index] == 2].iloc[:, 2],\n",
        "    mode='markers',\n",
        "    marker=dict(size=8, color='green', opacity=0.8),\n",
        "    text=nama_chara[y_kmeans[df_hydro_train.index] == 2],\n",
        "    hoverinfo='text',\n",
        "    name='Cluster 3'\n",
        ")\n",
        "\n",
        "# Scatter plot untuk menampilkan centroid dari K-Means\n",
        "centroids = go.Scatter3d(\n",
        "    x=kmeansmodel.cluster_centers_[:, 0],\n",
        "    y=kmeansmodel.cluster_centers_[:, 1],\n",
        "    z=kmeansmodel.cluster_centers_[:, 2],\n",
        "    mode='markers',\n",
        "    marker=dict(size=12, color='black', symbol='diamond', opacity=1),\n",
        "    name='Centroids'\n",
        ")\n",
        "\n",
        "# Membuat layout\n",
        "layout = go.Layout(\n",
        "    title='Hasil KMeans Clustering',\n",
        "    scene=dict(\n",
        "        xaxis_title='HP',\n",
        "        yaxis_title='ATK',\n",
        "        zaxis_title='DEF'\n",
        "    ),\n",
        "    showlegend=True\n",
        ")\n",
        "\n",
        "# Menggabungkan semua trace\n",
        "fig = go.Figure(data=[trace1, trace2, trace3, centroids], layout=layout)\n",
        "\n",
        "# Menampilkan plot interaktif\n",
        "fig.show()"
      ]
    },
    {
      "cell_type": "markdown",
      "metadata": {
        "id": "8AsVAhIVrUje"
      },
      "source": [
        "## Principal Component Analysis\n",
        "\n",
        "**Definisi** = Teknik statistik yang digunakan untuk **mereduksi dimensi data** dengan mengubah variabel asli menjadi sekumpulan variabel baru"
      ]
    },
    {
      "cell_type": "code",
      "execution_count": 25,
      "metadata": {
        "colab": {
          "base_uri": "https://localhost:8080/"
        },
        "id": "8wJsbcsoFlKa",
        "outputId": "c53c0d11-8532-4ce8-b4b2-77a3ce1c690c"
      },
      "outputs": [
        {
          "name": "stdout",
          "output_type": "stream",
          "text": [
            "PCA explained variance ratio:\n",
            " 0.997 0.003\n"
          ]
        }
      ],
      "source": [
        "from sklearn.decomposition import PCA\n",
        "from sklearn.preprocessing import StandardScaler\n",
        "\n",
        "scaler = StandardScaler()\n",
        "pca = PCA(n_components=2)\n",
        "pca_data = pca.fit_transform(df_train)\n",
        "pca_data = scaler.fit_transform(pca_data)\n",
        "pca_data = pd.DataFrame(pca_data, columns=[\"PCA_1\", \"PCA_2\"])  # Menggunakan \"PCA_1\" dan \"PCA_2\" karena kita hanya memiliki 2 komponen\n",
        "print(\"PCA explained variance ratio:\\n\", \" \".join(map(\"{:.3f}\".format, pca.explained_variance_ratio_)))"
      ]
    },
    {
      "cell_type": "code",
      "execution_count": 26,
      "metadata": {
        "colab": {
          "base_uri": "https://localhost:8080/",
          "height": 472
        },
        "id": "P80GqGJCGE0f",
        "outputId": "45426cbc-ac95-4720-9ff5-35fd3a665017"
      },
      "outputs": [
        {
          "data": {
            "image/png": "[encoded data removed]",
            "text/plain": [
              "<Figure size 640x480 with 1 Axes>"
            ]
          },
          "metadata": {},
          "output_type": "display_data"
        }
      ],
      "source": [
        "plt.scatter(pca_data[\"PCA_1\"], pca_data[\"PCA_2\"], s = 50)\n",
        "plt.xlabel('PCA 1')\n",
        "plt.ylabel('PCA 2')\n",
        "plt.title('Visualisasi Scatter Plot Hasil PCA')\n",
        "plt.show()"
      ]
    },
    {
      "cell_type": "markdown",
      "metadata": {
        "id": "VWkrIVWPGPdR"
      },
      "source": [
        "# Sekian, Terimakasih\n",
        "\n",
        "![logo_kcv](./assets/kcv-profile.png)"
      ]
    }
  ],
  "metadata": {
    "colab": {
      "provenance": []
    },
    "kernelspec": {
      "display_name": "Python 3",
      "name": "python3"
    },
    "language_info": {
      "codemirror_mode": {
        "name": "ipython",
        "version": 3
      },
      "file_extension": ".py",
      "mimetype": "text/x-python",
      "name": "python",
      "nbconvert_exporter": "python",
      "pygments_lexer": "ipython3",
      "version": "3.9.16"
    }
  },
  "nbformat": 4,
  "nbformat_minor": 0
}
